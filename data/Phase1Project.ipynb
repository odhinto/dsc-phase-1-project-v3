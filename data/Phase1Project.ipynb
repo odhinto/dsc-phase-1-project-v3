{
  "nbformat": 4,
  "nbformat_minor": 0,
  "metadata": {
    "colab": {
      "provenance": [],
      "toc_visible": true,
      "collapsed_sections": [
        "rR--ZidGX00C",
        "YlBDNAVKYGU3",
        "dtHjYgDrWsnW",
        "4QEZurpdWz4p",
        "f867mWOsW71m",
        "tOZayh25XCuc",
        "O4PZjZ_BXWp7",
        "u991t0amZAZo",
        "Cg_wUrgjZGcV",
        "jqkSWDM3ZOAL",
        "3dnRIOY0ZSt-",
        "v-w7P31n1LSh",
        "5bz1qoHuRwPB",
        "YycOA-BWaZqU",
        "4QIYGKrya50o",
        "0U_gokMHbrwe",
        "riF-vJFMc9pe",
        "M6igdVmffyEN",
        "d8inuRP6eJkU",
        "Dl3AQsydhFAz",
        "_LmCg0S7h0IE",
        "XbSWoTc71vRE",
        "e1qvJsHqpUI3",
        "0mxrN2UwqCRq"
      ]
    },
    "kernelspec": {
      "name": "python3",
      "display_name": "Python 3"
    },
    "language_info": {
      "name": "python"
    }
  },
  "cells": [
    {
      "cell_type": "markdown",
      "source": [
        "#**Problem Definition**\n",
        "\n",
        "Our company's expansion and diversification plans include venturing into the aviation industry to own and operate airplanes for commercial and private enterprises. A key preliminary step for this consideration is risk assesment for different aircrafts to advise which aircrafts pose the lowest risk for the intended business endeavor. This projects seeks to assess risk potential from analysis of aviation accident data from 1962 to 2023.\n",
        "\n",
        "The primary objective of this exercise is to identify the lowest-risk aircraft for our company to purchase and operate. The following are some of the key considerations we expect to make:\n",
        "\n",
        "\n",
        "*   Historical accident trends by aircraft type\n",
        "*   Severity and frequency of accidents\n",
        "*   Factors contributing to the accidents e.g. weather, pilot error or mechanical failures\n",
        "*   Any correlations between operational risk and aircraft characteristics\n",
        "\n",
        "\n",
        "\n"
      ],
      "metadata": {
        "id": "PKi1w-7TrhQp"
      }
    },
    {
      "cell_type": "markdown",
      "source": [
        "#**Data Preprocessing**\n",
        "This section prepare the provided aviation data for analysis. We intend to do the following:\n",
        "\n",
        "\n",
        "\n",
        "*   Dataset Overview - Load and understand the data\n",
        "*   Handling Missing Values using derived domain knowledge and imputation\n",
        "*   Data Cleaning e.g. standardizing categorical values, deriving useful date data, removing duplicates etc"
      ],
      "metadata": {
        "id": "6lE5hwmTXEXe"
      }
    },
    {
      "cell_type": "markdown",
      "source": [
        "##**Dataset Overview**\n",
        "It is imperative for us to understand the aviation dataset first i.e.:\n",
        "\n",
        "\n",
        "*   The data structure e.g. available columns, data types and presence of missing values\n",
        "*   Identify useful columns to focus on\n",
        "\n",
        "Data Understanding will prescribe subsequent steps. Simple cleaning procedures e.g. capitalization will be done on the spot (immediately a need is observed) to ensure they are not forgotten. Complex cleaning procedures will be done in the **Data Cleaning** subsection"
      ],
      "metadata": {
        "id": "cBE2_yYJXL7M"
      }
    },
    {
      "cell_type": "markdown",
      "source": [
        "###Initializing Relevant Libraries"
      ],
      "metadata": {
        "id": "rR--ZidGX00C"
      }
    },
    {
      "cell_type": "markdown",
      "source": [
        "First, we initialize common libraries we project to utilize in this exercise"
      ],
      "metadata": {
        "id": "YHk1OwEiXZIj"
      }
    },
    {
      "cell_type": "code",
      "execution_count": 355,
      "metadata": {
        "id": "zxRflzxRW5O2"
      },
      "outputs": [],
      "source": [
        "#Import libraries i'm likely to use upfront\n",
        "import pandas as pd #To create and manipulate pandas dataframes\n",
        "import seaborn as sns #To Facilitate visualizations\n",
        "import matplotlib.pyplot as plt #To facilitate visualizations\n",
        "import numpy as np #To facilitate mathematical calculations\n",
        "from sklearn.preprocessing import LabelEncoder #Use this to encode categorical data\n",
        "%matplotlib inline"
      ]
    },
    {
      "cell_type": "markdown",
      "source": [
        "###Loading the dataset"
      ],
      "metadata": {
        "id": "G7XB5MIJX9AN"
      }
    },
    {
      "cell_type": "markdown",
      "source": [
        "Then we load the provided dataset"
      ],
      "metadata": {
        "id": "vupRB_XcvIgi"
      }
    },
    {
      "cell_type": "code",
      "source": [
        "#Load the aviation data\n",
        "#Understand the data and get a snapshot of the data\n",
        "aviation_df = pd.read_csv('Aviation_Data.csv')\n",
        "aviation_df.info()"
      ],
      "metadata": {
        "colab": {
          "base_uri": "https://localhost:8080/"
        },
        "id": "jBPpbtJTXtTr",
        "outputId": "59db63e2-c060-4b5a-9738-3046dd34301f"
      },
      "execution_count": 356,
      "outputs": [
        {
          "output_type": "stream",
          "name": "stderr",
          "text": [
            "<ipython-input-356-2bbd9ca9aaa1>:3: DtypeWarning: Columns (6,7,28) have mixed types. Specify dtype option on import or set low_memory=False.\n",
            "  aviation_df = pd.read_csv('Aviation_Data.csv')\n"
          ]
        },
        {
          "output_type": "stream",
          "name": "stdout",
          "text": [
            "<class 'pandas.core.frame.DataFrame'>\n",
            "RangeIndex: 90348 entries, 0 to 90347\n",
            "Data columns (total 31 columns):\n",
            " #   Column                  Non-Null Count  Dtype  \n",
            "---  ------                  --------------  -----  \n",
            " 0   Event.Id                88889 non-null  object \n",
            " 1   Investigation.Type      90348 non-null  object \n",
            " 2   Accident.Number         88889 non-null  object \n",
            " 3   Event.Date              88889 non-null  object \n",
            " 4   Location                88837 non-null  object \n",
            " 5   Country                 88663 non-null  object \n",
            " 6   Latitude                34382 non-null  object \n",
            " 7   Longitude               34373 non-null  object \n",
            " 8   Airport.Code            50132 non-null  object \n",
            " 9   Airport.Name            52704 non-null  object \n",
            " 10  Injury.Severity         87889 non-null  object \n",
            " 11  Aircraft.damage         85695 non-null  object \n",
            " 12  Aircraft.Category       32287 non-null  object \n",
            " 13  Registration.Number     87507 non-null  object \n",
            " 14  Make                    88826 non-null  object \n",
            " 15  Model                   88797 non-null  object \n",
            " 16  Amateur.Built           88787 non-null  object \n",
            " 17  Number.of.Engines       82805 non-null  float64\n",
            " 18  Engine.Type             81793 non-null  object \n",
            " 19  FAR.Description         32023 non-null  object \n",
            " 20  Schedule                12582 non-null  object \n",
            " 21  Purpose.of.flight       82697 non-null  object \n",
            " 22  Air.carrier             16648 non-null  object \n",
            " 23  Total.Fatal.Injuries    77488 non-null  float64\n",
            " 24  Total.Serious.Injuries  76379 non-null  float64\n",
            " 25  Total.Minor.Injuries    76956 non-null  float64\n",
            " 26  Total.Uninjured         82977 non-null  float64\n",
            " 27  Weather.Condition       84397 non-null  object \n",
            " 28  Broad.phase.of.flight   61724 non-null  object \n",
            " 29  Report.Status           82505 non-null  object \n",
            " 30  Publication.Date        73659 non-null  object \n",
            "dtypes: float64(5), object(26)\n",
            "memory usage: 21.4+ MB\n"
          ]
        }
      ]
    },
    {
      "cell_type": "markdown",
      "source": [
        "###Data Understanding\n",
        "\n",
        "Sampling a few columns to assess the various categorical data present will help us define how to clean the data, e.g.:\n",
        "\n",
        "\n",
        "*   Investigation.Type\n",
        "*   Injury.Severity\n",
        "*   Aircraft.damage\n",
        "*   Aircraft.Category\n",
        "*   Make\n",
        "*   Model\n",
        "*   Amateur.Built\n",
        "*   Engine.Type"
      ],
      "metadata": {
        "id": "YlBDNAVKYGU3"
      }
    },
    {
      "cell_type": "code",
      "source": [
        "aviation_df.head()"
      ],
      "metadata": {
        "colab": {
          "base_uri": "https://localhost:8080/",
          "height": 0
        },
        "id": "FUjlm79orY0H",
        "outputId": "d37e8be1-b25e-435f-fd8e-b15a4aa917ec"
      },
      "execution_count": 357,
      "outputs": [
        {
          "output_type": "execute_result",
          "data": {
            "text/plain": [
              "         Event.Id Investigation.Type Accident.Number  Event.Date  \\\n",
              "0  20001218X45444           Accident      SEA87LA080  1948-10-24   \n",
              "1  20001218X45447           Accident      LAX94LA336  1962-07-19   \n",
              "2  20061025X01555           Accident      NYC07LA005  1974-08-30   \n",
              "3  20001218X45448           Accident      LAX96LA321  1977-06-19   \n",
              "4  20041105X01764           Accident      CHI79FA064  1979-08-02   \n",
              "\n",
              "          Location        Country   Latitude  Longitude Airport.Code  \\\n",
              "0  MOOSE CREEK, ID  United States        NaN        NaN          NaN   \n",
              "1   BRIDGEPORT, CA  United States        NaN        NaN          NaN   \n",
              "2    Saltville, VA  United States  36.922223 -81.878056          NaN   \n",
              "3       EUREKA, CA  United States        NaN        NaN          NaN   \n",
              "4       Canton, OH  United States        NaN        NaN          NaN   \n",
              "\n",
              "  Airport.Name  ... Purpose.of.flight Air.carrier Total.Fatal.Injuries  \\\n",
              "0          NaN  ...          Personal         NaN                  2.0   \n",
              "1          NaN  ...          Personal         NaN                  4.0   \n",
              "2          NaN  ...          Personal         NaN                  3.0   \n",
              "3          NaN  ...          Personal         NaN                  2.0   \n",
              "4          NaN  ...          Personal         NaN                  1.0   \n",
              "\n",
              "  Total.Serious.Injuries Total.Minor.Injuries Total.Uninjured  \\\n",
              "0                    0.0                  0.0             0.0   \n",
              "1                    0.0                  0.0             0.0   \n",
              "2                    NaN                  NaN             NaN   \n",
              "3                    0.0                  0.0             0.0   \n",
              "4                    2.0                  NaN             0.0   \n",
              "\n",
              "  Weather.Condition  Broad.phase.of.flight   Report.Status Publication.Date  \n",
              "0               UNK                 Cruise  Probable Cause              NaN  \n",
              "1               UNK                Unknown  Probable Cause       19-09-1996  \n",
              "2               IMC                 Cruise  Probable Cause       26-02-2007  \n",
              "3               IMC                 Cruise  Probable Cause       12-09-2000  \n",
              "4               VMC               Approach  Probable Cause       16-04-1980  \n",
              "\n",
              "[5 rows x 31 columns]"
            ],
            "text/html": [
              "\n",
              "  <div id=\"df-3779188e-ccac-4d63-ac6e-d072835650b9\" class=\"colab-df-container\">\n",
              "    <div>\n",
              "<style scoped>\n",
              "    .dataframe tbody tr th:only-of-type {\n",
              "        vertical-align: middle;\n",
              "    }\n",
              "\n",
              "    .dataframe tbody tr th {\n",
              "        vertical-align: top;\n",
              "    }\n",
              "\n",
              "    .dataframe thead th {\n",
              "        text-align: right;\n",
              "    }\n",
              "</style>\n",
              "<table border=\"1\" class=\"dataframe\">\n",
              "  <thead>\n",
              "    <tr style=\"text-align: right;\">\n",
              "      <th></th>\n",
              "      <th>Event.Id</th>\n",
              "      <th>Investigation.Type</th>\n",
              "      <th>Accident.Number</th>\n",
              "      <th>Event.Date</th>\n",
              "      <th>Location</th>\n",
              "      <th>Country</th>\n",
              "      <th>Latitude</th>\n",
              "      <th>Longitude</th>\n",
              "      <th>Airport.Code</th>\n",
              "      <th>Airport.Name</th>\n",
              "      <th>...</th>\n",
              "      <th>Purpose.of.flight</th>\n",
              "      <th>Air.carrier</th>\n",
              "      <th>Total.Fatal.Injuries</th>\n",
              "      <th>Total.Serious.Injuries</th>\n",
              "      <th>Total.Minor.Injuries</th>\n",
              "      <th>Total.Uninjured</th>\n",
              "      <th>Weather.Condition</th>\n",
              "      <th>Broad.phase.of.flight</th>\n",
              "      <th>Report.Status</th>\n",
              "      <th>Publication.Date</th>\n",
              "    </tr>\n",
              "  </thead>\n",
              "  <tbody>\n",
              "    <tr>\n",
              "      <th>0</th>\n",
              "      <td>20001218X45444</td>\n",
              "      <td>Accident</td>\n",
              "      <td>SEA87LA080</td>\n",
              "      <td>1948-10-24</td>\n",
              "      <td>MOOSE CREEK, ID</td>\n",
              "      <td>United States</td>\n",
              "      <td>NaN</td>\n",
              "      <td>NaN</td>\n",
              "      <td>NaN</td>\n",
              "      <td>NaN</td>\n",
              "      <td>...</td>\n",
              "      <td>Personal</td>\n",
              "      <td>NaN</td>\n",
              "      <td>2.0</td>\n",
              "      <td>0.0</td>\n",
              "      <td>0.0</td>\n",
              "      <td>0.0</td>\n",
              "      <td>UNK</td>\n",
              "      <td>Cruise</td>\n",
              "      <td>Probable Cause</td>\n",
              "      <td>NaN</td>\n",
              "    </tr>\n",
              "    <tr>\n",
              "      <th>1</th>\n",
              "      <td>20001218X45447</td>\n",
              "      <td>Accident</td>\n",
              "      <td>LAX94LA336</td>\n",
              "      <td>1962-07-19</td>\n",
              "      <td>BRIDGEPORT, CA</td>\n",
              "      <td>United States</td>\n",
              "      <td>NaN</td>\n",
              "      <td>NaN</td>\n",
              "      <td>NaN</td>\n",
              "      <td>NaN</td>\n",
              "      <td>...</td>\n",
              "      <td>Personal</td>\n",
              "      <td>NaN</td>\n",
              "      <td>4.0</td>\n",
              "      <td>0.0</td>\n",
              "      <td>0.0</td>\n",
              "      <td>0.0</td>\n",
              "      <td>UNK</td>\n",
              "      <td>Unknown</td>\n",
              "      <td>Probable Cause</td>\n",
              "      <td>19-09-1996</td>\n",
              "    </tr>\n",
              "    <tr>\n",
              "      <th>2</th>\n",
              "      <td>20061025X01555</td>\n",
              "      <td>Accident</td>\n",
              "      <td>NYC07LA005</td>\n",
              "      <td>1974-08-30</td>\n",
              "      <td>Saltville, VA</td>\n",
              "      <td>United States</td>\n",
              "      <td>36.922223</td>\n",
              "      <td>-81.878056</td>\n",
              "      <td>NaN</td>\n",
              "      <td>NaN</td>\n",
              "      <td>...</td>\n",
              "      <td>Personal</td>\n",
              "      <td>NaN</td>\n",
              "      <td>3.0</td>\n",
              "      <td>NaN</td>\n",
              "      <td>NaN</td>\n",
              "      <td>NaN</td>\n",
              "      <td>IMC</td>\n",
              "      <td>Cruise</td>\n",
              "      <td>Probable Cause</td>\n",
              "      <td>26-02-2007</td>\n",
              "    </tr>\n",
              "    <tr>\n",
              "      <th>3</th>\n",
              "      <td>20001218X45448</td>\n",
              "      <td>Accident</td>\n",
              "      <td>LAX96LA321</td>\n",
              "      <td>1977-06-19</td>\n",
              "      <td>EUREKA, CA</td>\n",
              "      <td>United States</td>\n",
              "      <td>NaN</td>\n",
              "      <td>NaN</td>\n",
              "      <td>NaN</td>\n",
              "      <td>NaN</td>\n",
              "      <td>...</td>\n",
              "      <td>Personal</td>\n",
              "      <td>NaN</td>\n",
              "      <td>2.0</td>\n",
              "      <td>0.0</td>\n",
              "      <td>0.0</td>\n",
              "      <td>0.0</td>\n",
              "      <td>IMC</td>\n",
              "      <td>Cruise</td>\n",
              "      <td>Probable Cause</td>\n",
              "      <td>12-09-2000</td>\n",
              "    </tr>\n",
              "    <tr>\n",
              "      <th>4</th>\n",
              "      <td>20041105X01764</td>\n",
              "      <td>Accident</td>\n",
              "      <td>CHI79FA064</td>\n",
              "      <td>1979-08-02</td>\n",
              "      <td>Canton, OH</td>\n",
              "      <td>United States</td>\n",
              "      <td>NaN</td>\n",
              "      <td>NaN</td>\n",
              "      <td>NaN</td>\n",
              "      <td>NaN</td>\n",
              "      <td>...</td>\n",
              "      <td>Personal</td>\n",
              "      <td>NaN</td>\n",
              "      <td>1.0</td>\n",
              "      <td>2.0</td>\n",
              "      <td>NaN</td>\n",
              "      <td>0.0</td>\n",
              "      <td>VMC</td>\n",
              "      <td>Approach</td>\n",
              "      <td>Probable Cause</td>\n",
              "      <td>16-04-1980</td>\n",
              "    </tr>\n",
              "  </tbody>\n",
              "</table>\n",
              "<p>5 rows × 31 columns</p>\n",
              "</div>\n",
              "    <div class=\"colab-df-buttons\">\n",
              "\n",
              "  <div class=\"colab-df-container\">\n",
              "    <button class=\"colab-df-convert\" onclick=\"convertToInteractive('df-3779188e-ccac-4d63-ac6e-d072835650b9')\"\n",
              "            title=\"Convert this dataframe to an interactive table.\"\n",
              "            style=\"display:none;\">\n",
              "\n",
              "  <svg xmlns=\"http://www.w3.org/2000/svg\" height=\"24px\" viewBox=\"0 -960 960 960\">\n",
              "    <path d=\"M120-120v-720h720v720H120Zm60-500h600v-160H180v160Zm220 220h160v-160H400v160Zm0 220h160v-160H400v160ZM180-400h160v-160H180v160Zm440 0h160v-160H620v160ZM180-180h160v-160H180v160Zm440 0h160v-160H620v160Z\"/>\n",
              "  </svg>\n",
              "    </button>\n",
              "\n",
              "  <style>\n",
              "    .colab-df-container {\n",
              "      display:flex;\n",
              "      gap: 12px;\n",
              "    }\n",
              "\n",
              "    .colab-df-convert {\n",
              "      background-color: #E8F0FE;\n",
              "      border: none;\n",
              "      border-radius: 50%;\n",
              "      cursor: pointer;\n",
              "      display: none;\n",
              "      fill: #1967D2;\n",
              "      height: 32px;\n",
              "      padding: 0 0 0 0;\n",
              "      width: 32px;\n",
              "    }\n",
              "\n",
              "    .colab-df-convert:hover {\n",
              "      background-color: #E2EBFA;\n",
              "      box-shadow: 0px 1px 2px rgba(60, 64, 67, 0.3), 0px 1px 3px 1px rgba(60, 64, 67, 0.15);\n",
              "      fill: #174EA6;\n",
              "    }\n",
              "\n",
              "    .colab-df-buttons div {\n",
              "      margin-bottom: 4px;\n",
              "    }\n",
              "\n",
              "    [theme=dark] .colab-df-convert {\n",
              "      background-color: #3B4455;\n",
              "      fill: #D2E3FC;\n",
              "    }\n",
              "\n",
              "    [theme=dark] .colab-df-convert:hover {\n",
              "      background-color: #434B5C;\n",
              "      box-shadow: 0px 1px 3px 1px rgba(0, 0, 0, 0.15);\n",
              "      filter: drop-shadow(0px 1px 2px rgba(0, 0, 0, 0.3));\n",
              "      fill: #FFFFFF;\n",
              "    }\n",
              "  </style>\n",
              "\n",
              "    <script>\n",
              "      const buttonEl =\n",
              "        document.querySelector('#df-3779188e-ccac-4d63-ac6e-d072835650b9 button.colab-df-convert');\n",
              "      buttonEl.style.display =\n",
              "        google.colab.kernel.accessAllowed ? 'block' : 'none';\n",
              "\n",
              "      async function convertToInteractive(key) {\n",
              "        const element = document.querySelector('#df-3779188e-ccac-4d63-ac6e-d072835650b9');\n",
              "        const dataTable =\n",
              "          await google.colab.kernel.invokeFunction('convertToInteractive',\n",
              "                                                    [key], {});\n",
              "        if (!dataTable) return;\n",
              "\n",
              "        const docLinkHtml = 'Like what you see? Visit the ' +\n",
              "          '<a target=\"_blank\" href=https://colab.research.google.com/notebooks/data_table.ipynb>data table notebook</a>'\n",
              "          + ' to learn more about interactive tables.';\n",
              "        element.innerHTML = '';\n",
              "        dataTable['output_type'] = 'display_data';\n",
              "        await google.colab.output.renderOutput(dataTable, element);\n",
              "        const docLink = document.createElement('div');\n",
              "        docLink.innerHTML = docLinkHtml;\n",
              "        element.appendChild(docLink);\n",
              "      }\n",
              "    </script>\n",
              "  </div>\n",
              "\n",
              "\n",
              "<div id=\"df-4df126ca-462a-49f6-a866-f2413becc5ef\">\n",
              "  <button class=\"colab-df-quickchart\" onclick=\"quickchart('df-4df126ca-462a-49f6-a866-f2413becc5ef')\"\n",
              "            title=\"Suggest charts\"\n",
              "            style=\"display:none;\">\n",
              "\n",
              "<svg xmlns=\"http://www.w3.org/2000/svg\" height=\"24px\"viewBox=\"0 0 24 24\"\n",
              "     width=\"24px\">\n",
              "    <g>\n",
              "        <path d=\"M19 3H5c-1.1 0-2 .9-2 2v14c0 1.1.9 2 2 2h14c1.1 0 2-.9 2-2V5c0-1.1-.9-2-2-2zM9 17H7v-7h2v7zm4 0h-2V7h2v10zm4 0h-2v-4h2v4z\"/>\n",
              "    </g>\n",
              "</svg>\n",
              "  </button>\n",
              "\n",
              "<style>\n",
              "  .colab-df-quickchart {\n",
              "      --bg-color: #E8F0FE;\n",
              "      --fill-color: #1967D2;\n",
              "      --hover-bg-color: #E2EBFA;\n",
              "      --hover-fill-color: #174EA6;\n",
              "      --disabled-fill-color: #AAA;\n",
              "      --disabled-bg-color: #DDD;\n",
              "  }\n",
              "\n",
              "  [theme=dark] .colab-df-quickchart {\n",
              "      --bg-color: #3B4455;\n",
              "      --fill-color: #D2E3FC;\n",
              "      --hover-bg-color: #434B5C;\n",
              "      --hover-fill-color: #FFFFFF;\n",
              "      --disabled-bg-color: #3B4455;\n",
              "      --disabled-fill-color: #666;\n",
              "  }\n",
              "\n",
              "  .colab-df-quickchart {\n",
              "    background-color: var(--bg-color);\n",
              "    border: none;\n",
              "    border-radius: 50%;\n",
              "    cursor: pointer;\n",
              "    display: none;\n",
              "    fill: var(--fill-color);\n",
              "    height: 32px;\n",
              "    padding: 0;\n",
              "    width: 32px;\n",
              "  }\n",
              "\n",
              "  .colab-df-quickchart:hover {\n",
              "    background-color: var(--hover-bg-color);\n",
              "    box-shadow: 0 1px 2px rgba(60, 64, 67, 0.3), 0 1px 3px 1px rgba(60, 64, 67, 0.15);\n",
              "    fill: var(--button-hover-fill-color);\n",
              "  }\n",
              "\n",
              "  .colab-df-quickchart-complete:disabled,\n",
              "  .colab-df-quickchart-complete:disabled:hover {\n",
              "    background-color: var(--disabled-bg-color);\n",
              "    fill: var(--disabled-fill-color);\n",
              "    box-shadow: none;\n",
              "  }\n",
              "\n",
              "  .colab-df-spinner {\n",
              "    border: 2px solid var(--fill-color);\n",
              "    border-color: transparent;\n",
              "    border-bottom-color: var(--fill-color);\n",
              "    animation:\n",
              "      spin 1s steps(1) infinite;\n",
              "  }\n",
              "\n",
              "  @keyframes spin {\n",
              "    0% {\n",
              "      border-color: transparent;\n",
              "      border-bottom-color: var(--fill-color);\n",
              "      border-left-color: var(--fill-color);\n",
              "    }\n",
              "    20% {\n",
              "      border-color: transparent;\n",
              "      border-left-color: var(--fill-color);\n",
              "      border-top-color: var(--fill-color);\n",
              "    }\n",
              "    30% {\n",
              "      border-color: transparent;\n",
              "      border-left-color: var(--fill-color);\n",
              "      border-top-color: var(--fill-color);\n",
              "      border-right-color: var(--fill-color);\n",
              "    }\n",
              "    40% {\n",
              "      border-color: transparent;\n",
              "      border-right-color: var(--fill-color);\n",
              "      border-top-color: var(--fill-color);\n",
              "    }\n",
              "    60% {\n",
              "      border-color: transparent;\n",
              "      border-right-color: var(--fill-color);\n",
              "    }\n",
              "    80% {\n",
              "      border-color: transparent;\n",
              "      border-right-color: var(--fill-color);\n",
              "      border-bottom-color: var(--fill-color);\n",
              "    }\n",
              "    90% {\n",
              "      border-color: transparent;\n",
              "      border-bottom-color: var(--fill-color);\n",
              "    }\n",
              "  }\n",
              "</style>\n",
              "\n",
              "  <script>\n",
              "    async function quickchart(key) {\n",
              "      const quickchartButtonEl =\n",
              "        document.querySelector('#' + key + ' button');\n",
              "      quickchartButtonEl.disabled = true;  // To prevent multiple clicks.\n",
              "      quickchartButtonEl.classList.add('colab-df-spinner');\n",
              "      try {\n",
              "        const charts = await google.colab.kernel.invokeFunction(\n",
              "            'suggestCharts', [key], {});\n",
              "      } catch (error) {\n",
              "        console.error('Error during call to suggestCharts:', error);\n",
              "      }\n",
              "      quickchartButtonEl.classList.remove('colab-df-spinner');\n",
              "      quickchartButtonEl.classList.add('colab-df-quickchart-complete');\n",
              "    }\n",
              "    (() => {\n",
              "      let quickchartButtonEl =\n",
              "        document.querySelector('#df-4df126ca-462a-49f6-a866-f2413becc5ef button');\n",
              "      quickchartButtonEl.style.display =\n",
              "        google.colab.kernel.accessAllowed ? 'block' : 'none';\n",
              "    })();\n",
              "  </script>\n",
              "</div>\n",
              "\n",
              "    </div>\n",
              "  </div>\n"
            ],
            "application/vnd.google.colaboratory.intrinsic+json": {
              "type": "dataframe",
              "variable_name": "aviation_df"
            }
          },
          "metadata": {},
          "execution_count": 357
        }
      ]
    },
    {
      "cell_type": "markdown",
      "source": [
        "####Investigation.Type"
      ],
      "metadata": {
        "id": "dtHjYgDrWsnW"
      }
    },
    {
      "cell_type": "code",
      "source": [
        "#Understand 'Investigation Type' column\n",
        "aviation_df['Investigation.Type'].value_counts(normalize = True) * 100"
      ],
      "metadata": {
        "colab": {
          "base_uri": "https://localhost:8080/",
          "height": 0
        },
        "id": "8EITy4i4Ynia",
        "outputId": "2c6c2bfc-daa0-4101-b5c1-ceb689015041"
      },
      "execution_count": 358,
      "outputs": [
        {
          "output_type": "execute_result",
          "data": {
            "text/plain": [
              "Investigation.Type\n",
              "Accident      94.097268\n",
              "Incident       4.287865\n",
              "25-09-2020     0.776996\n",
              "26-09-2020     0.066410\n",
              "02-02-2021     0.043166\n",
              "                ...    \n",
              "13-09-2021     0.001107\n",
              "04-08-2021     0.001107\n",
              "05-08-2022     0.001107\n",
              "03-11-2020     0.001107\n",
              "06-01-2021     0.001107\n",
              "Name: proportion, Length: 71, dtype: float64"
            ],
            "text/html": [
              "<div>\n",
              "<style scoped>\n",
              "    .dataframe tbody tr th:only-of-type {\n",
              "        vertical-align: middle;\n",
              "    }\n",
              "\n",
              "    .dataframe tbody tr th {\n",
              "        vertical-align: top;\n",
              "    }\n",
              "\n",
              "    .dataframe thead th {\n",
              "        text-align: right;\n",
              "    }\n",
              "</style>\n",
              "<table border=\"1\" class=\"dataframe\">\n",
              "  <thead>\n",
              "    <tr style=\"text-align: right;\">\n",
              "      <th></th>\n",
              "      <th>proportion</th>\n",
              "    </tr>\n",
              "    <tr>\n",
              "      <th>Investigation.Type</th>\n",
              "      <th></th>\n",
              "    </tr>\n",
              "  </thead>\n",
              "  <tbody>\n",
              "    <tr>\n",
              "      <th>Accident</th>\n",
              "      <td>94.097268</td>\n",
              "    </tr>\n",
              "    <tr>\n",
              "      <th>Incident</th>\n",
              "      <td>4.287865</td>\n",
              "    </tr>\n",
              "    <tr>\n",
              "      <th>25-09-2020</th>\n",
              "      <td>0.776996</td>\n",
              "    </tr>\n",
              "    <tr>\n",
              "      <th>26-09-2020</th>\n",
              "      <td>0.066410</td>\n",
              "    </tr>\n",
              "    <tr>\n",
              "      <th>02-02-2021</th>\n",
              "      <td>0.043166</td>\n",
              "    </tr>\n",
              "    <tr>\n",
              "      <th>...</th>\n",
              "      <td>...</td>\n",
              "    </tr>\n",
              "    <tr>\n",
              "      <th>13-09-2021</th>\n",
              "      <td>0.001107</td>\n",
              "    </tr>\n",
              "    <tr>\n",
              "      <th>04-08-2021</th>\n",
              "      <td>0.001107</td>\n",
              "    </tr>\n",
              "    <tr>\n",
              "      <th>05-08-2022</th>\n",
              "      <td>0.001107</td>\n",
              "    </tr>\n",
              "    <tr>\n",
              "      <th>03-11-2020</th>\n",
              "      <td>0.001107</td>\n",
              "    </tr>\n",
              "    <tr>\n",
              "      <th>06-01-2021</th>\n",
              "      <td>0.001107</td>\n",
              "    </tr>\n",
              "  </tbody>\n",
              "</table>\n",
              "<p>71 rows × 1 columns</p>\n",
              "</div><br><label><b>dtype:</b> float64</label>"
            ]
          },
          "metadata": {},
          "execution_count": 358
        }
      ]
    },
    {
      "cell_type": "markdown",
      "source": [
        "There are 71 different categories, but the only seemingly relevant categories here are 'Accident' and 'Incident'. The others seem like noise. Perusal of the 'noisy\" data on excel showed that where the column \"Event.Id\" was blank, there was a noisy column in 'Investigation.Type'. Dropping rows with empty Event.ID may fix this"
      ],
      "metadata": {
        "id": "l8cwu2hPFOWw"
      }
    },
    {
      "cell_type": "markdown",
      "source": [
        "####Injury Severity"
      ],
      "metadata": {
        "id": "4QEZurpdWz4p"
      }
    },
    {
      "cell_type": "code",
      "source": [
        "#Understand 'injury.Severity' column\n",
        "aviation_df['Injury.Severity'].value_counts(normalize = True) * 100"
      ],
      "metadata": {
        "colab": {
          "base_uri": "https://localhost:8080/",
          "height": 0
        },
        "id": "j0Yc8JlUE9Sq",
        "outputId": "1bdc0c4b-d35e-4fcb-adff-736e9bcfdc3f"
      },
      "execution_count": 359,
      "outputs": [
        {
          "output_type": "execute_result",
          "data": {
            "text/plain": [
              "Injury.Severity\n",
              "Non-Fatal     76.638715\n",
              "Fatal(1)       7.016805\n",
              "Fatal          5.987097\n",
              "Fatal(2)       4.222371\n",
              "Incident       2.524776\n",
              "                ...    \n",
              "Fatal(270)     0.001138\n",
              "Fatal(60)      0.001138\n",
              "Fatal(43)      0.001138\n",
              "Fatal(143)     0.001138\n",
              "Fatal(230)     0.001138\n",
              "Name: proportion, Length: 109, dtype: float64"
            ],
            "text/html": [
              "<div>\n",
              "<style scoped>\n",
              "    .dataframe tbody tr th:only-of-type {\n",
              "        vertical-align: middle;\n",
              "    }\n",
              "\n",
              "    .dataframe tbody tr th {\n",
              "        vertical-align: top;\n",
              "    }\n",
              "\n",
              "    .dataframe thead th {\n",
              "        text-align: right;\n",
              "    }\n",
              "</style>\n",
              "<table border=\"1\" class=\"dataframe\">\n",
              "  <thead>\n",
              "    <tr style=\"text-align: right;\">\n",
              "      <th></th>\n",
              "      <th>proportion</th>\n",
              "    </tr>\n",
              "    <tr>\n",
              "      <th>Injury.Severity</th>\n",
              "      <th></th>\n",
              "    </tr>\n",
              "  </thead>\n",
              "  <tbody>\n",
              "    <tr>\n",
              "      <th>Non-Fatal</th>\n",
              "      <td>76.638715</td>\n",
              "    </tr>\n",
              "    <tr>\n",
              "      <th>Fatal(1)</th>\n",
              "      <td>7.016805</td>\n",
              "    </tr>\n",
              "    <tr>\n",
              "      <th>Fatal</th>\n",
              "      <td>5.987097</td>\n",
              "    </tr>\n",
              "    <tr>\n",
              "      <th>Fatal(2)</th>\n",
              "      <td>4.222371</td>\n",
              "    </tr>\n",
              "    <tr>\n",
              "      <th>Incident</th>\n",
              "      <td>2.524776</td>\n",
              "    </tr>\n",
              "    <tr>\n",
              "      <th>...</th>\n",
              "      <td>...</td>\n",
              "    </tr>\n",
              "    <tr>\n",
              "      <th>Fatal(270)</th>\n",
              "      <td>0.001138</td>\n",
              "    </tr>\n",
              "    <tr>\n",
              "      <th>Fatal(60)</th>\n",
              "      <td>0.001138</td>\n",
              "    </tr>\n",
              "    <tr>\n",
              "      <th>Fatal(43)</th>\n",
              "      <td>0.001138</td>\n",
              "    </tr>\n",
              "    <tr>\n",
              "      <th>Fatal(143)</th>\n",
              "      <td>0.001138</td>\n",
              "    </tr>\n",
              "    <tr>\n",
              "      <th>Fatal(230)</th>\n",
              "      <td>0.001138</td>\n",
              "    </tr>\n",
              "  </tbody>\n",
              "</table>\n",
              "<p>109 rows × 1 columns</p>\n",
              "</div><br><label><b>dtype:</b> float64</label>"
            ]
          },
          "metadata": {},
          "execution_count": 359
        }
      ]
    },
    {
      "cell_type": "markdown",
      "source": [
        "Where there are fatalities, the number of fatalies is appended on the string. This is unnecessary, since there's another column that details the number of fatalities. There is a need to clean this column."
      ],
      "metadata": {
        "id": "pPTNQqfHFh0t"
      }
    },
    {
      "cell_type": "markdown",
      "source": [
        "####Aircraft Damage"
      ],
      "metadata": {
        "id": "f867mWOsW71m"
      }
    },
    {
      "cell_type": "code",
      "source": [
        "#Understand 'Aircraft.damage' column\n",
        "aviation_df['Aircraft.damage'].value_counts(normalize = True) * 100"
      ],
      "metadata": {
        "colab": {
          "base_uri": "https://localhost:8080/",
          "height": 0
        },
        "id": "QooVrKbhE9ub",
        "outputId": "f06a0917-88c9-4617-efdf-e6e08361d980"
      },
      "execution_count": 360,
      "outputs": [
        {
          "output_type": "execute_result",
          "data": {
            "text/plain": [
              "Aircraft.damage\n",
              "Substantial    74.856176\n",
              "Destroyed      21.731723\n",
              "Minor           3.273236\n",
              "Unknown         0.138865\n",
              "Name: proportion, dtype: float64"
            ],
            "text/html": [
              "<div>\n",
              "<style scoped>\n",
              "    .dataframe tbody tr th:only-of-type {\n",
              "        vertical-align: middle;\n",
              "    }\n",
              "\n",
              "    .dataframe tbody tr th {\n",
              "        vertical-align: top;\n",
              "    }\n",
              "\n",
              "    .dataframe thead th {\n",
              "        text-align: right;\n",
              "    }\n",
              "</style>\n",
              "<table border=\"1\" class=\"dataframe\">\n",
              "  <thead>\n",
              "    <tr style=\"text-align: right;\">\n",
              "      <th></th>\n",
              "      <th>proportion</th>\n",
              "    </tr>\n",
              "    <tr>\n",
              "      <th>Aircraft.damage</th>\n",
              "      <th></th>\n",
              "    </tr>\n",
              "  </thead>\n",
              "  <tbody>\n",
              "    <tr>\n",
              "      <th>Substantial</th>\n",
              "      <td>74.856176</td>\n",
              "    </tr>\n",
              "    <tr>\n",
              "      <th>Destroyed</th>\n",
              "      <td>21.731723</td>\n",
              "    </tr>\n",
              "    <tr>\n",
              "      <th>Minor</th>\n",
              "      <td>3.273236</td>\n",
              "    </tr>\n",
              "    <tr>\n",
              "      <th>Unknown</th>\n",
              "      <td>0.138865</td>\n",
              "    </tr>\n",
              "  </tbody>\n",
              "</table>\n",
              "</div><br><label><b>dtype:</b> float64</label>"
            ]
          },
          "metadata": {},
          "execution_count": 360
        }
      ]
    },
    {
      "cell_type": "markdown",
      "source": [
        "The categorization of extent of damage seems okay as is. There is no need for cleaning this column."
      ],
      "metadata": {
        "id": "Urwy3OwTF8GN"
      }
    },
    {
      "cell_type": "markdown",
      "source": [
        "####Aircraft Category"
      ],
      "metadata": {
        "id": "tOZayh25XCuc"
      }
    },
    {
      "cell_type": "code",
      "source": [
        "#Understand 'Aircraft.Category' column\n",
        "aviation_df['Aircraft.Category'].value_counts(normalize = True) * 100"
      ],
      "metadata": {
        "colab": {
          "base_uri": "https://localhost:8080/",
          "height": 0
        },
        "id": "rhwRk7uOE94n",
        "outputId": "c4f8d8f8-79ea-4d55-c56d-d9690c141105"
      },
      "execution_count": 361,
      "outputs": [
        {
          "output_type": "execute_result",
          "data": {
            "text/plain": [
              "Aircraft.Category\n",
              "Airplane             85.535974\n",
              "Helicopter           10.654443\n",
              "Glider                1.573389\n",
              "Balloon               0.715458\n",
              "Gyrocraft             0.535819\n",
              "Weight-Shift          0.498653\n",
              "Powered Parachute     0.281847\n",
              "Ultralight            0.092917\n",
              "Unknown               0.043361\n",
              "WSFT                  0.027875\n",
              "Powered-Lift          0.015486\n",
              "Blimp                 0.012389\n",
              "UNK                   0.006194\n",
              "Rocket                0.003097\n",
              "ULTR                  0.003097\n",
              "Name: proportion, dtype: float64"
            ],
            "text/html": [
              "<div>\n",
              "<style scoped>\n",
              "    .dataframe tbody tr th:only-of-type {\n",
              "        vertical-align: middle;\n",
              "    }\n",
              "\n",
              "    .dataframe tbody tr th {\n",
              "        vertical-align: top;\n",
              "    }\n",
              "\n",
              "    .dataframe thead th {\n",
              "        text-align: right;\n",
              "    }\n",
              "</style>\n",
              "<table border=\"1\" class=\"dataframe\">\n",
              "  <thead>\n",
              "    <tr style=\"text-align: right;\">\n",
              "      <th></th>\n",
              "      <th>proportion</th>\n",
              "    </tr>\n",
              "    <tr>\n",
              "      <th>Aircraft.Category</th>\n",
              "      <th></th>\n",
              "    </tr>\n",
              "  </thead>\n",
              "  <tbody>\n",
              "    <tr>\n",
              "      <th>Airplane</th>\n",
              "      <td>85.535974</td>\n",
              "    </tr>\n",
              "    <tr>\n",
              "      <th>Helicopter</th>\n",
              "      <td>10.654443</td>\n",
              "    </tr>\n",
              "    <tr>\n",
              "      <th>Glider</th>\n",
              "      <td>1.573389</td>\n",
              "    </tr>\n",
              "    <tr>\n",
              "      <th>Balloon</th>\n",
              "      <td>0.715458</td>\n",
              "    </tr>\n",
              "    <tr>\n",
              "      <th>Gyrocraft</th>\n",
              "      <td>0.535819</td>\n",
              "    </tr>\n",
              "    <tr>\n",
              "      <th>Weight-Shift</th>\n",
              "      <td>0.498653</td>\n",
              "    </tr>\n",
              "    <tr>\n",
              "      <th>Powered Parachute</th>\n",
              "      <td>0.281847</td>\n",
              "    </tr>\n",
              "    <tr>\n",
              "      <th>Ultralight</th>\n",
              "      <td>0.092917</td>\n",
              "    </tr>\n",
              "    <tr>\n",
              "      <th>Unknown</th>\n",
              "      <td>0.043361</td>\n",
              "    </tr>\n",
              "    <tr>\n",
              "      <th>WSFT</th>\n",
              "      <td>0.027875</td>\n",
              "    </tr>\n",
              "    <tr>\n",
              "      <th>Powered-Lift</th>\n",
              "      <td>0.015486</td>\n",
              "    </tr>\n",
              "    <tr>\n",
              "      <th>Blimp</th>\n",
              "      <td>0.012389</td>\n",
              "    </tr>\n",
              "    <tr>\n",
              "      <th>UNK</th>\n",
              "      <td>0.006194</td>\n",
              "    </tr>\n",
              "    <tr>\n",
              "      <th>Rocket</th>\n",
              "      <td>0.003097</td>\n",
              "    </tr>\n",
              "    <tr>\n",
              "      <th>ULTR</th>\n",
              "      <td>0.003097</td>\n",
              "    </tr>\n",
              "  </tbody>\n",
              "</table>\n",
              "</div><br><label><b>dtype:</b> float64</label>"
            ]
          },
          "metadata": {},
          "execution_count": 361
        }
      ]
    },
    {
      "cell_type": "markdown",
      "source": [
        "The categorization of Aircrafts seems okay as is. But there is a need to combine 'Unknown' and 'UNK' such that they are the same category"
      ],
      "metadata": {
        "id": "lV1kN0lQGVH9"
      }
    },
    {
      "cell_type": "code",
      "source": [
        "#Clean\n",
        "#Use \"Title\" format to rewrite the 'Make' column\n",
        "aviation_df['Model'] = aviation_df['Model'].str.title()\n",
        "aviation_df['Model'].value_counts(normalize = True) * 100"
      ],
      "metadata": {
        "colab": {
          "base_uri": "https://localhost:8080/",
          "height": 0
        },
        "id": "ka3fpqFxIzTf",
        "outputId": "291577f1-6f55-4630-d0af-a52df48bffb0"
      },
      "execution_count": 362,
      "outputs": [
        {
          "output_type": "execute_result",
          "data": {
            "text/plain": [
              "Model\n",
              "152                 2.665631\n",
              "172                 1.977544\n",
              "172N                1.310855\n",
              "Pa-28-140           1.049585\n",
              "150                 0.933590\n",
              "                      ...   \n",
              "E75Nl               0.001126\n",
              "747-273C            0.001126\n",
              "Watcha-Mccall-It    0.001126\n",
              "Md-520N             0.001126\n",
              "M-8 Eagle           0.001126\n",
              "Name: proportion, Length: 11646, dtype: float64"
            ],
            "text/html": [
              "<div>\n",
              "<style scoped>\n",
              "    .dataframe tbody tr th:only-of-type {\n",
              "        vertical-align: middle;\n",
              "    }\n",
              "\n",
              "    .dataframe tbody tr th {\n",
              "        vertical-align: top;\n",
              "    }\n",
              "\n",
              "    .dataframe thead th {\n",
              "        text-align: right;\n",
              "    }\n",
              "</style>\n",
              "<table border=\"1\" class=\"dataframe\">\n",
              "  <thead>\n",
              "    <tr style=\"text-align: right;\">\n",
              "      <th></th>\n",
              "      <th>proportion</th>\n",
              "    </tr>\n",
              "    <tr>\n",
              "      <th>Model</th>\n",
              "      <th></th>\n",
              "    </tr>\n",
              "  </thead>\n",
              "  <tbody>\n",
              "    <tr>\n",
              "      <th>152</th>\n",
              "      <td>2.665631</td>\n",
              "    </tr>\n",
              "    <tr>\n",
              "      <th>172</th>\n",
              "      <td>1.977544</td>\n",
              "    </tr>\n",
              "    <tr>\n",
              "      <th>172N</th>\n",
              "      <td>1.310855</td>\n",
              "    </tr>\n",
              "    <tr>\n",
              "      <th>Pa-28-140</th>\n",
              "      <td>1.049585</td>\n",
              "    </tr>\n",
              "    <tr>\n",
              "      <th>150</th>\n",
              "      <td>0.933590</td>\n",
              "    </tr>\n",
              "    <tr>\n",
              "      <th>...</th>\n",
              "      <td>...</td>\n",
              "    </tr>\n",
              "    <tr>\n",
              "      <th>E75Nl</th>\n",
              "      <td>0.001126</td>\n",
              "    </tr>\n",
              "    <tr>\n",
              "      <th>747-273C</th>\n",
              "      <td>0.001126</td>\n",
              "    </tr>\n",
              "    <tr>\n",
              "      <th>Watcha-Mccall-It</th>\n",
              "      <td>0.001126</td>\n",
              "    </tr>\n",
              "    <tr>\n",
              "      <th>Md-520N</th>\n",
              "      <td>0.001126</td>\n",
              "    </tr>\n",
              "    <tr>\n",
              "      <th>M-8 Eagle</th>\n",
              "      <td>0.001126</td>\n",
              "    </tr>\n",
              "  </tbody>\n",
              "</table>\n",
              "<p>11646 rows × 1 columns</p>\n",
              "</div><br><label><b>dtype:</b> float64</label>"
            ]
          },
          "metadata": {},
          "execution_count": 362
        }
      ]
    },
    {
      "cell_type": "markdown",
      "source": [
        "The number of models has been reduced from 12318 to 11646 following capitalization standardization. We now have a cleaner column."
      ],
      "metadata": {
        "id": "gbYFevizJJYq"
      }
    },
    {
      "cell_type": "code",
      "source": [
        "aviation_df['Engine.Type'] = aviation_df['Engine.Type'].replace('UNK', 'Unknown')\n",
        "#Check if implemented\n",
        "aviation_df['Engine.Type'].value_counts(normalize = True) * 100"
      ],
      "metadata": {
        "colab": {
          "base_uri": "https://localhost:8080/",
          "height": 0
        },
        "id": "Pq5XyahLNqmO",
        "outputId": "4828b498-88a4-406c-e531-41d8c8a4f33f"
      },
      "execution_count": 363,
      "outputs": [
        {
          "output_type": "execute_result",
          "data": {
            "text/plain": [
              "Engine.Type\n",
              "Reciprocating      85.007274\n",
              "Turbo Shaft         4.412358\n",
              "Turbo Prop          4.145832\n",
              "Turbo Fan           3.033267\n",
              "Unknown             2.508772\n",
              "Turbo Jet           0.859487\n",
              "Geared Turbofan     0.014671\n",
              "Electric            0.012226\n",
              "LR                  0.002445\n",
              "NONE                0.002445\n",
              "Hybrid Rocket       0.001223\n",
              "Name: proportion, dtype: float64"
            ],
            "text/html": [
              "<div>\n",
              "<style scoped>\n",
              "    .dataframe tbody tr th:only-of-type {\n",
              "        vertical-align: middle;\n",
              "    }\n",
              "\n",
              "    .dataframe tbody tr th {\n",
              "        vertical-align: top;\n",
              "    }\n",
              "\n",
              "    .dataframe thead th {\n",
              "        text-align: right;\n",
              "    }\n",
              "</style>\n",
              "<table border=\"1\" class=\"dataframe\">\n",
              "  <thead>\n",
              "    <tr style=\"text-align: right;\">\n",
              "      <th></th>\n",
              "      <th>proportion</th>\n",
              "    </tr>\n",
              "    <tr>\n",
              "      <th>Engine.Type</th>\n",
              "      <th></th>\n",
              "    </tr>\n",
              "  </thead>\n",
              "  <tbody>\n",
              "    <tr>\n",
              "      <th>Reciprocating</th>\n",
              "      <td>85.007274</td>\n",
              "    </tr>\n",
              "    <tr>\n",
              "      <th>Turbo Shaft</th>\n",
              "      <td>4.412358</td>\n",
              "    </tr>\n",
              "    <tr>\n",
              "      <th>Turbo Prop</th>\n",
              "      <td>4.145832</td>\n",
              "    </tr>\n",
              "    <tr>\n",
              "      <th>Turbo Fan</th>\n",
              "      <td>3.033267</td>\n",
              "    </tr>\n",
              "    <tr>\n",
              "      <th>Unknown</th>\n",
              "      <td>2.508772</td>\n",
              "    </tr>\n",
              "    <tr>\n",
              "      <th>Turbo Jet</th>\n",
              "      <td>0.859487</td>\n",
              "    </tr>\n",
              "    <tr>\n",
              "      <th>Geared Turbofan</th>\n",
              "      <td>0.014671</td>\n",
              "    </tr>\n",
              "    <tr>\n",
              "      <th>Electric</th>\n",
              "      <td>0.012226</td>\n",
              "    </tr>\n",
              "    <tr>\n",
              "      <th>LR</th>\n",
              "      <td>0.002445</td>\n",
              "    </tr>\n",
              "    <tr>\n",
              "      <th>NONE</th>\n",
              "      <td>0.002445</td>\n",
              "    </tr>\n",
              "    <tr>\n",
              "      <th>Hybrid Rocket</th>\n",
              "      <td>0.001223</td>\n",
              "    </tr>\n",
              "  </tbody>\n",
              "</table>\n",
              "</div><br><label><b>dtype:</b> float64</label>"
            ]
          },
          "metadata": {},
          "execution_count": 363
        }
      ]
    },
    {
      "cell_type": "code",
      "source": [
        "#Standardize capitalization\n",
        "aviation_df['Weather.Condition'] = aviation_df['Weather.Condition'].str.upper()\n",
        "aviation_df['Weather.Condition'].value_counts(normalize = True) * 100"
      ],
      "metadata": {
        "colab": {
          "base_uri": "https://localhost:8080/",
          "height": 0
        },
        "id": "YqHXDzjOOZZP",
        "outputId": "d9b4b727-ce28-46b7-f291-6e313df11983"
      },
      "execution_count": 364,
      "outputs": [
        {
          "output_type": "execute_result",
          "data": {
            "text/plain": [
              "Weather.Condition\n",
              "VMC    91.594488\n",
              "IMC     7.080820\n",
              "UNK     1.324692\n",
              "Name: proportion, dtype: float64"
            ],
            "text/html": [
              "<div>\n",
              "<style scoped>\n",
              "    .dataframe tbody tr th:only-of-type {\n",
              "        vertical-align: middle;\n",
              "    }\n",
              "\n",
              "    .dataframe tbody tr th {\n",
              "        vertical-align: top;\n",
              "    }\n",
              "\n",
              "    .dataframe thead th {\n",
              "        text-align: right;\n",
              "    }\n",
              "</style>\n",
              "<table border=\"1\" class=\"dataframe\">\n",
              "  <thead>\n",
              "    <tr style=\"text-align: right;\">\n",
              "      <th></th>\n",
              "      <th>proportion</th>\n",
              "    </tr>\n",
              "    <tr>\n",
              "      <th>Weather.Condition</th>\n",
              "      <th></th>\n",
              "    </tr>\n",
              "  </thead>\n",
              "  <tbody>\n",
              "    <tr>\n",
              "      <th>VMC</th>\n",
              "      <td>91.594488</td>\n",
              "    </tr>\n",
              "    <tr>\n",
              "      <th>IMC</th>\n",
              "      <td>7.080820</td>\n",
              "    </tr>\n",
              "    <tr>\n",
              "      <th>UNK</th>\n",
              "      <td>1.324692</td>\n",
              "    </tr>\n",
              "  </tbody>\n",
              "</table>\n",
              "</div><br><label><b>dtype:</b> float64</label>"
            ]
          },
          "metadata": {},
          "execution_count": 364
        }
      ]
    },
    {
      "cell_type": "markdown",
      "source": [
        "####Make"
      ],
      "metadata": {
        "id": "O4PZjZ_BXWp7"
      }
    },
    {
      "cell_type": "code",
      "source": [
        "#Understand 'Make' column\n",
        "aviation_df['Make'].value_counts(normalize = True) * 100"
      ],
      "metadata": {
        "colab": {
          "base_uri": "https://localhost:8080/",
          "height": 0
        },
        "id": "Xa3b7T3YE-At",
        "outputId": "380cee8c-e5f0-4615-c88a-2c2d8ce555bb"
      },
      "execution_count": 365,
      "outputs": [
        {
          "output_type": "execute_result",
          "data": {
            "text/plain": [
              "Make\n",
              "Cessna             25.023079\n",
              "Piper              13.542206\n",
              "CESSNA              5.541170\n",
              "Beech               4.874699\n",
              "PIPER               3.198388\n",
              "                     ...    \n",
              "Leonard Walters     0.001126\n",
              "Maule Air Inc.      0.001126\n",
              "Motley Vans         0.001126\n",
              "Perlick             0.001126\n",
              "ROYSE RALPH L       0.001126\n",
              "Name: proportion, Length: 8237, dtype: float64"
            ],
            "text/html": [
              "<div>\n",
              "<style scoped>\n",
              "    .dataframe tbody tr th:only-of-type {\n",
              "        vertical-align: middle;\n",
              "    }\n",
              "\n",
              "    .dataframe tbody tr th {\n",
              "        vertical-align: top;\n",
              "    }\n",
              "\n",
              "    .dataframe thead th {\n",
              "        text-align: right;\n",
              "    }\n",
              "</style>\n",
              "<table border=\"1\" class=\"dataframe\">\n",
              "  <thead>\n",
              "    <tr style=\"text-align: right;\">\n",
              "      <th></th>\n",
              "      <th>proportion</th>\n",
              "    </tr>\n",
              "    <tr>\n",
              "      <th>Make</th>\n",
              "      <th></th>\n",
              "    </tr>\n",
              "  </thead>\n",
              "  <tbody>\n",
              "    <tr>\n",
              "      <th>Cessna</th>\n",
              "      <td>25.023079</td>\n",
              "    </tr>\n",
              "    <tr>\n",
              "      <th>Piper</th>\n",
              "      <td>13.542206</td>\n",
              "    </tr>\n",
              "    <tr>\n",
              "      <th>CESSNA</th>\n",
              "      <td>5.541170</td>\n",
              "    </tr>\n",
              "    <tr>\n",
              "      <th>Beech</th>\n",
              "      <td>4.874699</td>\n",
              "    </tr>\n",
              "    <tr>\n",
              "      <th>PIPER</th>\n",
              "      <td>3.198388</td>\n",
              "    </tr>\n",
              "    <tr>\n",
              "      <th>...</th>\n",
              "      <td>...</td>\n",
              "    </tr>\n",
              "    <tr>\n",
              "      <th>Leonard Walters</th>\n",
              "      <td>0.001126</td>\n",
              "    </tr>\n",
              "    <tr>\n",
              "      <th>Maule Air Inc.</th>\n",
              "      <td>0.001126</td>\n",
              "    </tr>\n",
              "    <tr>\n",
              "      <th>Motley Vans</th>\n",
              "      <td>0.001126</td>\n",
              "    </tr>\n",
              "    <tr>\n",
              "      <th>Perlick</th>\n",
              "      <td>0.001126</td>\n",
              "    </tr>\n",
              "    <tr>\n",
              "      <th>ROYSE RALPH L</th>\n",
              "      <td>0.001126</td>\n",
              "    </tr>\n",
              "  </tbody>\n",
              "</table>\n",
              "<p>8237 rows × 1 columns</p>\n",
              "</div><br><label><b>dtype:</b> float64</label>"
            ]
          },
          "metadata": {},
          "execution_count": 365
        }
      ]
    },
    {
      "cell_type": "markdown",
      "source": [
        "Unstandardized capitalization is causing the same manufacturer to be split e.g. Cessna vs CESSNA. There is a need to regularize capitalization to prevent such an error."
      ],
      "metadata": {
        "id": "Ou2EVyskG5m4"
      }
    },
    {
      "cell_type": "markdown",
      "source": [
        "####Model"
      ],
      "metadata": {
        "id": "XhgKJmaXXjpv"
      }
    },
    {
      "cell_type": "code",
      "source": [
        "#Understand \"Model' column\n",
        "aviation_df['Model'].value_counts(normalize = True) * 100"
      ],
      "metadata": {
        "colab": {
          "base_uri": "https://localhost:8080/",
          "height": 0
        },
        "id": "F57i3W5wE-HC",
        "outputId": "4aec33fa-5b52-445d-c424-0598fc77bef1"
      },
      "execution_count": 366,
      "outputs": [
        {
          "output_type": "execute_result",
          "data": {
            "text/plain": [
              "Model\n",
              "152                 2.665631\n",
              "172                 1.977544\n",
              "172N                1.310855\n",
              "Pa-28-140           1.049585\n",
              "150                 0.933590\n",
              "                      ...   \n",
              "E75Nl               0.001126\n",
              "747-273C            0.001126\n",
              "Watcha-Mccall-It    0.001126\n",
              "Md-520N             0.001126\n",
              "M-8 Eagle           0.001126\n",
              "Name: proportion, Length: 11646, dtype: float64"
            ],
            "text/html": [
              "<div>\n",
              "<style scoped>\n",
              "    .dataframe tbody tr th:only-of-type {\n",
              "        vertical-align: middle;\n",
              "    }\n",
              "\n",
              "    .dataframe tbody tr th {\n",
              "        vertical-align: top;\n",
              "    }\n",
              "\n",
              "    .dataframe thead th {\n",
              "        text-align: right;\n",
              "    }\n",
              "</style>\n",
              "<table border=\"1\" class=\"dataframe\">\n",
              "  <thead>\n",
              "    <tr style=\"text-align: right;\">\n",
              "      <th></th>\n",
              "      <th>proportion</th>\n",
              "    </tr>\n",
              "    <tr>\n",
              "      <th>Model</th>\n",
              "      <th></th>\n",
              "    </tr>\n",
              "  </thead>\n",
              "  <tbody>\n",
              "    <tr>\n",
              "      <th>152</th>\n",
              "      <td>2.665631</td>\n",
              "    </tr>\n",
              "    <tr>\n",
              "      <th>172</th>\n",
              "      <td>1.977544</td>\n",
              "    </tr>\n",
              "    <tr>\n",
              "      <th>172N</th>\n",
              "      <td>1.310855</td>\n",
              "    </tr>\n",
              "    <tr>\n",
              "      <th>Pa-28-140</th>\n",
              "      <td>1.049585</td>\n",
              "    </tr>\n",
              "    <tr>\n",
              "      <th>150</th>\n",
              "      <td>0.933590</td>\n",
              "    </tr>\n",
              "    <tr>\n",
              "      <th>...</th>\n",
              "      <td>...</td>\n",
              "    </tr>\n",
              "    <tr>\n",
              "      <th>E75Nl</th>\n",
              "      <td>0.001126</td>\n",
              "    </tr>\n",
              "    <tr>\n",
              "      <th>747-273C</th>\n",
              "      <td>0.001126</td>\n",
              "    </tr>\n",
              "    <tr>\n",
              "      <th>Watcha-Mccall-It</th>\n",
              "      <td>0.001126</td>\n",
              "    </tr>\n",
              "    <tr>\n",
              "      <th>Md-520N</th>\n",
              "      <td>0.001126</td>\n",
              "    </tr>\n",
              "    <tr>\n",
              "      <th>M-8 Eagle</th>\n",
              "      <td>0.001126</td>\n",
              "    </tr>\n",
              "  </tbody>\n",
              "</table>\n",
              "<p>11646 rows × 1 columns</p>\n",
              "</div><br><label><b>dtype:</b> float64</label>"
            ]
          },
          "metadata": {},
          "execution_count": 366
        }
      ]
    },
    {
      "cell_type": "markdown",
      "source": [
        "Check and see whether lack of standard capitalization is introducing noise to this 'Model' column"
      ],
      "metadata": {
        "id": "cP93wqsdI7lX"
      }
    },
    {
      "cell_type": "markdown",
      "source": [
        "####Amateur.Built"
      ],
      "metadata": {
        "id": "u991t0amZAZo"
      }
    },
    {
      "cell_type": "code",
      "source": [
        "#Understand 'Amateur.Built' column\n",
        "aviation_df['Amateur.Built'].value_counts(normalize = True) * 100"
      ],
      "metadata": {
        "colab": {
          "base_uri": "https://localhost:8080/",
          "height": 0
        },
        "id": "z_UNDjPUE-L-",
        "outputId": "7c9a28ef-85cf-4548-97ce-f3ee6113b192"
      },
      "execution_count": 367,
      "outputs": [
        {
          "output_type": "execute_result",
          "data": {
            "text/plain": [
              "Amateur.Built\n",
              "No     90.454684\n",
              "Yes     9.545316\n",
              "Name: proportion, dtype: float64"
            ],
            "text/html": [
              "<div>\n",
              "<style scoped>\n",
              "    .dataframe tbody tr th:only-of-type {\n",
              "        vertical-align: middle;\n",
              "    }\n",
              "\n",
              "    .dataframe tbody tr th {\n",
              "        vertical-align: top;\n",
              "    }\n",
              "\n",
              "    .dataframe thead th {\n",
              "        text-align: right;\n",
              "    }\n",
              "</style>\n",
              "<table border=\"1\" class=\"dataframe\">\n",
              "  <thead>\n",
              "    <tr style=\"text-align: right;\">\n",
              "      <th></th>\n",
              "      <th>proportion</th>\n",
              "    </tr>\n",
              "    <tr>\n",
              "      <th>Amateur.Built</th>\n",
              "      <th></th>\n",
              "    </tr>\n",
              "  </thead>\n",
              "  <tbody>\n",
              "    <tr>\n",
              "      <th>No</th>\n",
              "      <td>90.454684</td>\n",
              "    </tr>\n",
              "    <tr>\n",
              "      <th>Yes</th>\n",
              "      <td>9.545316</td>\n",
              "    </tr>\n",
              "  </tbody>\n",
              "</table>\n",
              "</div><br><label><b>dtype:</b> float64</label>"
            ]
          },
          "metadata": {},
          "execution_count": 367
        }
      ]
    },
    {
      "cell_type": "markdown",
      "source": [
        "A few of the aircrafts were built by Amateurs i.e. 9.54%"
      ],
      "metadata": {
        "id": "jPIMEB7VJmHF"
      }
    },
    {
      "cell_type": "markdown",
      "source": [
        "####Engine.Type"
      ],
      "metadata": {
        "id": "Cg_wUrgjZGcV"
      }
    },
    {
      "cell_type": "code",
      "source": [
        "#Understand 'Engine Type' column\n",
        "aviation_df['Engine.Type'].value_counts(normalize = True) * 100"
      ],
      "metadata": {
        "colab": {
          "base_uri": "https://localhost:8080/",
          "height": 0
        },
        "id": "aPwL4GgIE-QM",
        "outputId": "b4b5447c-dce1-4f34-e700-eb2c59bbd698"
      },
      "execution_count": 368,
      "outputs": [
        {
          "output_type": "execute_result",
          "data": {
            "text/plain": [
              "Engine.Type\n",
              "Reciprocating      85.007274\n",
              "Turbo Shaft         4.412358\n",
              "Turbo Prop          4.145832\n",
              "Turbo Fan           3.033267\n",
              "Unknown             2.508772\n",
              "Turbo Jet           0.859487\n",
              "Geared Turbofan     0.014671\n",
              "Electric            0.012226\n",
              "LR                  0.002445\n",
              "NONE                0.002445\n",
              "Hybrid Rocket       0.001223\n",
              "Name: proportion, dtype: float64"
            ],
            "text/html": [
              "<div>\n",
              "<style scoped>\n",
              "    .dataframe tbody tr th:only-of-type {\n",
              "        vertical-align: middle;\n",
              "    }\n",
              "\n",
              "    .dataframe tbody tr th {\n",
              "        vertical-align: top;\n",
              "    }\n",
              "\n",
              "    .dataframe thead th {\n",
              "        text-align: right;\n",
              "    }\n",
              "</style>\n",
              "<table border=\"1\" class=\"dataframe\">\n",
              "  <thead>\n",
              "    <tr style=\"text-align: right;\">\n",
              "      <th></th>\n",
              "      <th>proportion</th>\n",
              "    </tr>\n",
              "    <tr>\n",
              "      <th>Engine.Type</th>\n",
              "      <th></th>\n",
              "    </tr>\n",
              "  </thead>\n",
              "  <tbody>\n",
              "    <tr>\n",
              "      <th>Reciprocating</th>\n",
              "      <td>85.007274</td>\n",
              "    </tr>\n",
              "    <tr>\n",
              "      <th>Turbo Shaft</th>\n",
              "      <td>4.412358</td>\n",
              "    </tr>\n",
              "    <tr>\n",
              "      <th>Turbo Prop</th>\n",
              "      <td>4.145832</td>\n",
              "    </tr>\n",
              "    <tr>\n",
              "      <th>Turbo Fan</th>\n",
              "      <td>3.033267</td>\n",
              "    </tr>\n",
              "    <tr>\n",
              "      <th>Unknown</th>\n",
              "      <td>2.508772</td>\n",
              "    </tr>\n",
              "    <tr>\n",
              "      <th>Turbo Jet</th>\n",
              "      <td>0.859487</td>\n",
              "    </tr>\n",
              "    <tr>\n",
              "      <th>Geared Turbofan</th>\n",
              "      <td>0.014671</td>\n",
              "    </tr>\n",
              "    <tr>\n",
              "      <th>Electric</th>\n",
              "      <td>0.012226</td>\n",
              "    </tr>\n",
              "    <tr>\n",
              "      <th>LR</th>\n",
              "      <td>0.002445</td>\n",
              "    </tr>\n",
              "    <tr>\n",
              "      <th>NONE</th>\n",
              "      <td>0.002445</td>\n",
              "    </tr>\n",
              "    <tr>\n",
              "      <th>Hybrid Rocket</th>\n",
              "      <td>0.001223</td>\n",
              "    </tr>\n",
              "  </tbody>\n",
              "</table>\n",
              "</div><br><label><b>dtype:</b> float64</label>"
            ]
          },
          "metadata": {},
          "execution_count": 368
        }
      ]
    },
    {
      "cell_type": "markdown",
      "source": [
        "The column seems clean, with Reciprocating Engine Aircrafts accounting for majority of the accidents/incidents. Entries with \"UNK\" should be substituted with \"Unknown\" to clean the data"
      ],
      "metadata": {
        "id": "HtqiWBM4L1z6"
      }
    },
    {
      "cell_type": "markdown",
      "source": [
        "####Purpose.of.flight"
      ],
      "metadata": {
        "id": "jqkSWDM3ZOAL"
      }
    },
    {
      "cell_type": "code",
      "source": [
        "#Understand 'Purpose.of.flight' column\n",
        "aviation_df['Purpose.of.flight'].value_counts(normalize = True) * 100"
      ],
      "metadata": {
        "colab": {
          "base_uri": "https://localhost:8080/",
          "height": 0
        },
        "id": "qU9rNo8HMEep",
        "outputId": "de377a99-4715-4f18-ee98-d6e648210189"
      },
      "execution_count": 369,
      "outputs": [
        {
          "output_type": "execute_result",
          "data": {
            "text/plain": [
              "Purpose.of.flight\n",
              "Personal                     59.794188\n",
              "Instructional                12.819087\n",
              "Unknown                       8.225208\n",
              "Aerial Application            5.697909\n",
              "Business                      4.858701\n",
              "Positioning                   1.990399\n",
              "Other Work Use                1.528471\n",
              "Ferry                         0.981898\n",
              "Aerial Observation            0.960132\n",
              "Public Aircraft               0.870648\n",
              "Executive/corporate           0.668706\n",
              "Flight Test                   0.489740\n",
              "Skydiving                     0.220081\n",
              "External Load                 0.148736\n",
              "Public Aircraft - Federal     0.126970\n",
              "Banner Tow                    0.122133\n",
              "Air Race show                 0.119714\n",
              "Public Aircraft - Local       0.089483\n",
              "Public Aircraft - State       0.077391\n",
              "Air Race/show                 0.071345\n",
              "Glider Tow                    0.064089\n",
              "Firefighting                  0.048369\n",
              "Air Drop                      0.013302\n",
              "ASHO                          0.007255\n",
              "PUBS                          0.004837\n",
              "PUBL                          0.001209\n",
              "Name: proportion, dtype: float64"
            ],
            "text/html": [
              "<div>\n",
              "<style scoped>\n",
              "    .dataframe tbody tr th:only-of-type {\n",
              "        vertical-align: middle;\n",
              "    }\n",
              "\n",
              "    .dataframe tbody tr th {\n",
              "        vertical-align: top;\n",
              "    }\n",
              "\n",
              "    .dataframe thead th {\n",
              "        text-align: right;\n",
              "    }\n",
              "</style>\n",
              "<table border=\"1\" class=\"dataframe\">\n",
              "  <thead>\n",
              "    <tr style=\"text-align: right;\">\n",
              "      <th></th>\n",
              "      <th>proportion</th>\n",
              "    </tr>\n",
              "    <tr>\n",
              "      <th>Purpose.of.flight</th>\n",
              "      <th></th>\n",
              "    </tr>\n",
              "  </thead>\n",
              "  <tbody>\n",
              "    <tr>\n",
              "      <th>Personal</th>\n",
              "      <td>59.794188</td>\n",
              "    </tr>\n",
              "    <tr>\n",
              "      <th>Instructional</th>\n",
              "      <td>12.819087</td>\n",
              "    </tr>\n",
              "    <tr>\n",
              "      <th>Unknown</th>\n",
              "      <td>8.225208</td>\n",
              "    </tr>\n",
              "    <tr>\n",
              "      <th>Aerial Application</th>\n",
              "      <td>5.697909</td>\n",
              "    </tr>\n",
              "    <tr>\n",
              "      <th>Business</th>\n",
              "      <td>4.858701</td>\n",
              "    </tr>\n",
              "    <tr>\n",
              "      <th>Positioning</th>\n",
              "      <td>1.990399</td>\n",
              "    </tr>\n",
              "    <tr>\n",
              "      <th>Other Work Use</th>\n",
              "      <td>1.528471</td>\n",
              "    </tr>\n",
              "    <tr>\n",
              "      <th>Ferry</th>\n",
              "      <td>0.981898</td>\n",
              "    </tr>\n",
              "    <tr>\n",
              "      <th>Aerial Observation</th>\n",
              "      <td>0.960132</td>\n",
              "    </tr>\n",
              "    <tr>\n",
              "      <th>Public Aircraft</th>\n",
              "      <td>0.870648</td>\n",
              "    </tr>\n",
              "    <tr>\n",
              "      <th>Executive/corporate</th>\n",
              "      <td>0.668706</td>\n",
              "    </tr>\n",
              "    <tr>\n",
              "      <th>Flight Test</th>\n",
              "      <td>0.489740</td>\n",
              "    </tr>\n",
              "    <tr>\n",
              "      <th>Skydiving</th>\n",
              "      <td>0.220081</td>\n",
              "    </tr>\n",
              "    <tr>\n",
              "      <th>External Load</th>\n",
              "      <td>0.148736</td>\n",
              "    </tr>\n",
              "    <tr>\n",
              "      <th>Public Aircraft - Federal</th>\n",
              "      <td>0.126970</td>\n",
              "    </tr>\n",
              "    <tr>\n",
              "      <th>Banner Tow</th>\n",
              "      <td>0.122133</td>\n",
              "    </tr>\n",
              "    <tr>\n",
              "      <th>Air Race show</th>\n",
              "      <td>0.119714</td>\n",
              "    </tr>\n",
              "    <tr>\n",
              "      <th>Public Aircraft - Local</th>\n",
              "      <td>0.089483</td>\n",
              "    </tr>\n",
              "    <tr>\n",
              "      <th>Public Aircraft - State</th>\n",
              "      <td>0.077391</td>\n",
              "    </tr>\n",
              "    <tr>\n",
              "      <th>Air Race/show</th>\n",
              "      <td>0.071345</td>\n",
              "    </tr>\n",
              "    <tr>\n",
              "      <th>Glider Tow</th>\n",
              "      <td>0.064089</td>\n",
              "    </tr>\n",
              "    <tr>\n",
              "      <th>Firefighting</th>\n",
              "      <td>0.048369</td>\n",
              "    </tr>\n",
              "    <tr>\n",
              "      <th>Air Drop</th>\n",
              "      <td>0.013302</td>\n",
              "    </tr>\n",
              "    <tr>\n",
              "      <th>ASHO</th>\n",
              "      <td>0.007255</td>\n",
              "    </tr>\n",
              "    <tr>\n",
              "      <th>PUBS</th>\n",
              "      <td>0.004837</td>\n",
              "    </tr>\n",
              "    <tr>\n",
              "      <th>PUBL</th>\n",
              "      <td>0.001209</td>\n",
              "    </tr>\n",
              "  </tbody>\n",
              "</table>\n",
              "</div><br><label><b>dtype:</b> float64</label>"
            ]
          },
          "metadata": {},
          "execution_count": 369
        }
      ]
    },
    {
      "cell_type": "markdown",
      "source": [
        "The column seems clean, with personal flights accounting for majority of the accidents/incidents"
      ],
      "metadata": {
        "id": "YeAyCNa4MvS8"
      }
    },
    {
      "cell_type": "markdown",
      "source": [
        "####Weather.Condition"
      ],
      "metadata": {
        "id": "3dnRIOY0ZSt-"
      }
    },
    {
      "cell_type": "code",
      "source": [
        " #Understand 'Weather.Condition' column\n",
        "aviation_df['Weather.Condition'].value_counts(normalize = True) * 100\n"
      ],
      "metadata": {
        "colab": {
          "base_uri": "https://localhost:8080/",
          "height": 0
        },
        "id": "qN0c-5o3MO-o",
        "outputId": "ee7209c0-946c-4d4e-de29-d79b87d09d92"
      },
      "execution_count": 370,
      "outputs": [
        {
          "output_type": "execute_result",
          "data": {
            "text/plain": [
              "Weather.Condition\n",
              "VMC    91.594488\n",
              "IMC     7.080820\n",
              "UNK     1.324692\n",
              "Name: proportion, dtype: float64"
            ],
            "text/html": [
              "<div>\n",
              "<style scoped>\n",
              "    .dataframe tbody tr th:only-of-type {\n",
              "        vertical-align: middle;\n",
              "    }\n",
              "\n",
              "    .dataframe tbody tr th {\n",
              "        vertical-align: top;\n",
              "    }\n",
              "\n",
              "    .dataframe thead th {\n",
              "        text-align: right;\n",
              "    }\n",
              "</style>\n",
              "<table border=\"1\" class=\"dataframe\">\n",
              "  <thead>\n",
              "    <tr style=\"text-align: right;\">\n",
              "      <th></th>\n",
              "      <th>proportion</th>\n",
              "    </tr>\n",
              "    <tr>\n",
              "      <th>Weather.Condition</th>\n",
              "      <th></th>\n",
              "    </tr>\n",
              "  </thead>\n",
              "  <tbody>\n",
              "    <tr>\n",
              "      <th>VMC</th>\n",
              "      <td>91.594488</td>\n",
              "    </tr>\n",
              "    <tr>\n",
              "      <th>IMC</th>\n",
              "      <td>7.080820</td>\n",
              "    </tr>\n",
              "    <tr>\n",
              "      <th>UNK</th>\n",
              "      <td>1.324692</td>\n",
              "    </tr>\n",
              "  </tbody>\n",
              "</table>\n",
              "</div><br><label><b>dtype:</b> float64</label>"
            ]
          },
          "metadata": {},
          "execution_count": 370
        }
      ]
    },
    {
      "cell_type": "markdown",
      "source": [
        "IMC, or Instrument Meteorological Conditions, are weather conditions that require a pilot to rely on flight instruments. On the other hand, VMC, or Visual Meteorological Conditions, are weather conditions that allow a pilot to navigate by visual reference to the ground and other landmarks. 91.6% of the accidents occured during VMC i.e. weather is hardly a factor leading to accidents. We need to combine 'UNK' with 'Unk' i.e. standardize capitalization"
      ],
      "metadata": {
        "id": "eL43V08yOrNv"
      }
    },
    {
      "cell_type": "markdown",
      "source": [
        "####Broad.phase.of.flight"
      ],
      "metadata": {
        "id": "lDfYLXwoZnQX"
      }
    },
    {
      "cell_type": "code",
      "source": [
        " #Understand 'Broad.phase.of.flight' column\n",
        "aviation_df['Broad.phase.of.flight'].value_counts(normalize = True) * 100"
      ],
      "metadata": {
        "colab": {
          "base_uri": "https://localhost:8080/",
          "height": 0
        },
        "id": "cD4Gtv_PMa-Y",
        "outputId": "c0cd7c23-5655-4cef-f698-d4bd76ccf6f2"
      },
      "execution_count": 371,
      "outputs": [
        {
          "output_type": "execute_result",
          "data": {
            "text/plain": [
              "Broad.phase.of.flight\n",
              "Landing        24.995140\n",
              "Takeoff        20.240101\n",
              "Cruise         16.636965\n",
              "Maneuvering    13.194219\n",
              "Approach       10.605275\n",
              "Climb           3.295315\n",
              "Taxi            3.172186\n",
              "Descent         3.057158\n",
              "Go-around       2.192016\n",
              "Standing        1.531009\n",
              "Unknown         0.887823\n",
              "Other           0.192794\n",
              "Name: proportion, dtype: float64"
            ],
            "text/html": [
              "<div>\n",
              "<style scoped>\n",
              "    .dataframe tbody tr th:only-of-type {\n",
              "        vertical-align: middle;\n",
              "    }\n",
              "\n",
              "    .dataframe tbody tr th {\n",
              "        vertical-align: top;\n",
              "    }\n",
              "\n",
              "    .dataframe thead th {\n",
              "        text-align: right;\n",
              "    }\n",
              "</style>\n",
              "<table border=\"1\" class=\"dataframe\">\n",
              "  <thead>\n",
              "    <tr style=\"text-align: right;\">\n",
              "      <th></th>\n",
              "      <th>proportion</th>\n",
              "    </tr>\n",
              "    <tr>\n",
              "      <th>Broad.phase.of.flight</th>\n",
              "      <th></th>\n",
              "    </tr>\n",
              "  </thead>\n",
              "  <tbody>\n",
              "    <tr>\n",
              "      <th>Landing</th>\n",
              "      <td>24.995140</td>\n",
              "    </tr>\n",
              "    <tr>\n",
              "      <th>Takeoff</th>\n",
              "      <td>20.240101</td>\n",
              "    </tr>\n",
              "    <tr>\n",
              "      <th>Cruise</th>\n",
              "      <td>16.636965</td>\n",
              "    </tr>\n",
              "    <tr>\n",
              "      <th>Maneuvering</th>\n",
              "      <td>13.194219</td>\n",
              "    </tr>\n",
              "    <tr>\n",
              "      <th>Approach</th>\n",
              "      <td>10.605275</td>\n",
              "    </tr>\n",
              "    <tr>\n",
              "      <th>Climb</th>\n",
              "      <td>3.295315</td>\n",
              "    </tr>\n",
              "    <tr>\n",
              "      <th>Taxi</th>\n",
              "      <td>3.172186</td>\n",
              "    </tr>\n",
              "    <tr>\n",
              "      <th>Descent</th>\n",
              "      <td>3.057158</td>\n",
              "    </tr>\n",
              "    <tr>\n",
              "      <th>Go-around</th>\n",
              "      <td>2.192016</td>\n",
              "    </tr>\n",
              "    <tr>\n",
              "      <th>Standing</th>\n",
              "      <td>1.531009</td>\n",
              "    </tr>\n",
              "    <tr>\n",
              "      <th>Unknown</th>\n",
              "      <td>0.887823</td>\n",
              "    </tr>\n",
              "    <tr>\n",
              "      <th>Other</th>\n",
              "      <td>0.192794</td>\n",
              "    </tr>\n",
              "  </tbody>\n",
              "</table>\n",
              "</div><br><label><b>dtype:</b> float64</label>"
            ]
          },
          "metadata": {},
          "execution_count": 371
        }
      ]
    },
    {
      "cell_type": "markdown",
      "source": [
        "Majority of the accidents occur during landing e.g. 24.995%."
      ],
      "metadata": {
        "id": "z8n9imSOPjQn"
      }
    },
    {
      "cell_type": "markdown",
      "source": [
        "####Schedule"
      ],
      "metadata": {
        "id": "v-w7P31n1LSh"
      }
    },
    {
      "cell_type": "code",
      "source": [
        "#Understand 'Schedule' column\n",
        "aviation_df['Schedule'].value_counts(normalize = True) * 100"
      ],
      "metadata": {
        "colab": {
          "base_uri": "https://localhost:8080/",
          "height": 0
        },
        "id": "1a1KB-Cx1QZ4",
        "outputId": "3d1e4af4-2c26-4024-a408-95910652c5d1"
      },
      "execution_count": 372,
      "outputs": [
        {
          "output_type": "execute_result",
          "data": {
            "text/plain": [
              "Schedule\n",
              "NSCH    35.558735\n",
              "UNK     32.578286\n",
              "SCHD    31.862979\n",
              "Name: proportion, dtype: float64"
            ],
            "text/html": [
              "<div>\n",
              "<style scoped>\n",
              "    .dataframe tbody tr th:only-of-type {\n",
              "        vertical-align: middle;\n",
              "    }\n",
              "\n",
              "    .dataframe tbody tr th {\n",
              "        vertical-align: top;\n",
              "    }\n",
              "\n",
              "    .dataframe thead th {\n",
              "        text-align: right;\n",
              "    }\n",
              "</style>\n",
              "<table border=\"1\" class=\"dataframe\">\n",
              "  <thead>\n",
              "    <tr style=\"text-align: right;\">\n",
              "      <th></th>\n",
              "      <th>proportion</th>\n",
              "    </tr>\n",
              "    <tr>\n",
              "      <th>Schedule</th>\n",
              "      <th></th>\n",
              "    </tr>\n",
              "  </thead>\n",
              "  <tbody>\n",
              "    <tr>\n",
              "      <th>NSCH</th>\n",
              "      <td>35.558735</td>\n",
              "    </tr>\n",
              "    <tr>\n",
              "      <th>UNK</th>\n",
              "      <td>32.578286</td>\n",
              "    </tr>\n",
              "    <tr>\n",
              "      <th>SCHD</th>\n",
              "      <td>31.862979</td>\n",
              "    </tr>\n",
              "  </tbody>\n",
              "</table>\n",
              "</div><br><label><b>dtype:</b> float64</label>"
            ]
          },
          "metadata": {},
          "execution_count": 372
        }
      ]
    },
    {
      "cell_type": "markdown",
      "source": [
        "There seems to be a rather even distribution between scheduled and non-scheduled flights where accidents/incidents occurred, although more accidents occur for non-scheduled flights (35% vs 31%). We will need to replace \"UNK\" with \"Unknown\" to maintain similar format."
      ],
      "metadata": {
        "id": "_9w9veGA1XBC"
      }
    },
    {
      "cell_type": "markdown",
      "source": [
        "###Summary Of the Dataset Overview"
      ],
      "metadata": {
        "id": "5bz1qoHuRwPB"
      }
    },
    {
      "cell_type": "markdown",
      "source": [
        "The dataset contains 31 columns and 90348 rows (including the header columns). There are several missing values in different columns. The only column without any missing data is the 'Investigation.Type' column, and this can form a good place to start with the data cleaning exercise.\n",
        "\n",
        "Further perusal of the data in Microsoft Excel gave some preliminary insights that can advise the data cleaning exercise:\n",
        "\n",
        "\n",
        "*   Where 'Event.Id' is blank, all the other columns are also blank. These could be deleted from the onset\n",
        "*   'Event.Date' uses a YYYY-MM-DD format whereas 'Publication.Date' uses a DD-MM-YYYY format. It would be better to standardize the date formats\n",
        "*   'Investigation.Type' seems to have 2 relevant values, i.e. \"Accident\" and \"Incident\". The rest of the values seem to be dates, and where it is a date, the rest of the columns are empty. Such rows can also be deleted from the onset.\n",
        "*   In the column 'Injury.Severity', there are too many categories since the number of fatalities is appended beside the label 'Fatal'. This is repetitive since there is another independent column 'Total.Fatal.Injuries' that details the number of fatalities. It may be better to just define the category 'fatal' for this column.\n",
        "*   In the column 'Make', capitalization differences have been noted e.g. 'CESSNA' vs 'Cessna'. This could make python consider these as two different makers. This needs to be standardized/corrected.\n"
      ],
      "metadata": {
        "id": "yf8CsjqrxrSV"
      }
    },
    {
      "cell_type": "markdown",
      "source": [
        "##Data Cleaning"
      ],
      "metadata": {
        "id": "K1ow_fOPR8OF"
      }
    },
    {
      "cell_type": "markdown",
      "source": [
        "As Identified during data perusal, we need to clean the data as recommended during the data understanding phase"
      ],
      "metadata": {
        "id": "7FB9EW0LSdNf"
      }
    },
    {
      "cell_type": "markdown",
      "source": [
        "####Remove Rows with Empty Event.ID Values"
      ],
      "metadata": {
        "id": "YycOA-BWaZqU"
      }
    },
    {
      "cell_type": "code",
      "source": [
        "#Remove rows where Event.Id is blank since all other columns are also blank when that is the case\n",
        "aviation_df.dropna(subset = ['Event.Id'], inplace = True)"
      ],
      "metadata": {
        "id": "jQEfCYE327Go"
      },
      "execution_count": 373,
      "outputs": []
    },
    {
      "cell_type": "code",
      "source": [
        "#Get a new snapshot view of the data after removing empty Event.Id rows.\n",
        "aviation_df.info()"
      ],
      "metadata": {
        "colab": {
          "base_uri": "https://localhost:8080/"
        },
        "id": "4ZetQ4FZxIqp",
        "outputId": "62778aad-47d9-497c-fcdc-5fee45c25e62"
      },
      "execution_count": 374,
      "outputs": [
        {
          "output_type": "stream",
          "name": "stdout",
          "text": [
            "<class 'pandas.core.frame.DataFrame'>\n",
            "Index: 88889 entries, 0 to 90347\n",
            "Data columns (total 31 columns):\n",
            " #   Column                  Non-Null Count  Dtype  \n",
            "---  ------                  --------------  -----  \n",
            " 0   Event.Id                88889 non-null  object \n",
            " 1   Investigation.Type      88889 non-null  object \n",
            " 2   Accident.Number         88889 non-null  object \n",
            " 3   Event.Date              88889 non-null  object \n",
            " 4   Location                88837 non-null  object \n",
            " 5   Country                 88663 non-null  object \n",
            " 6   Latitude                34382 non-null  object \n",
            " 7   Longitude               34373 non-null  object \n",
            " 8   Airport.Code            50132 non-null  object \n",
            " 9   Airport.Name            52704 non-null  object \n",
            " 10  Injury.Severity         87889 non-null  object \n",
            " 11  Aircraft.damage         85695 non-null  object \n",
            " 12  Aircraft.Category       32287 non-null  object \n",
            " 13  Registration.Number     87507 non-null  object \n",
            " 14  Make                    88826 non-null  object \n",
            " 15  Model                   88797 non-null  object \n",
            " 16  Amateur.Built           88787 non-null  object \n",
            " 17  Number.of.Engines       82805 non-null  float64\n",
            " 18  Engine.Type             81793 non-null  object \n",
            " 19  FAR.Description         32023 non-null  object \n",
            " 20  Schedule                12582 non-null  object \n",
            " 21  Purpose.of.flight       82697 non-null  object \n",
            " 22  Air.carrier             16648 non-null  object \n",
            " 23  Total.Fatal.Injuries    77488 non-null  float64\n",
            " 24  Total.Serious.Injuries  76379 non-null  float64\n",
            " 25  Total.Minor.Injuries    76956 non-null  float64\n",
            " 26  Total.Uninjured         82977 non-null  float64\n",
            " 27  Weather.Condition       84397 non-null  object \n",
            " 28  Broad.phase.of.flight   61724 non-null  object \n",
            " 29  Report.Status           82505 non-null  object \n",
            " 30  Publication.Date        73659 non-null  object \n",
            "dtypes: float64(5), object(26)\n",
            "memory usage: 21.7+ MB\n"
          ]
        }
      ]
    },
    {
      "cell_type": "code",
      "source": [
        "aviation_df['Investigation.Type'].value_counts(normalize = True) * 100"
      ],
      "metadata": {
        "colab": {
          "base_uri": "https://localhost:8080/",
          "height": 0
        },
        "id": "fJ43RFKwawnb",
        "outputId": "8dea5487-3b85-4a92-9a7b-f6c460cd6d18"
      },
      "execution_count": 375,
      "outputs": [
        {
          "output_type": "execute_result",
          "data": {
            "text/plain": [
              "Investigation.Type\n",
              "Accident    95.641755\n",
              "Incident     4.358245\n",
              "Name: proportion, dtype: float64"
            ],
            "text/html": [
              "<div>\n",
              "<style scoped>\n",
              "    .dataframe tbody tr th:only-of-type {\n",
              "        vertical-align: middle;\n",
              "    }\n",
              "\n",
              "    .dataframe tbody tr th {\n",
              "        vertical-align: top;\n",
              "    }\n",
              "\n",
              "    .dataframe thead th {\n",
              "        text-align: right;\n",
              "    }\n",
              "</style>\n",
              "<table border=\"1\" class=\"dataframe\">\n",
              "  <thead>\n",
              "    <tr style=\"text-align: right;\">\n",
              "      <th></th>\n",
              "      <th>proportion</th>\n",
              "    </tr>\n",
              "    <tr>\n",
              "      <th>Investigation.Type</th>\n",
              "      <th></th>\n",
              "    </tr>\n",
              "  </thead>\n",
              "  <tbody>\n",
              "    <tr>\n",
              "      <th>Accident</th>\n",
              "      <td>95.641755</td>\n",
              "    </tr>\n",
              "    <tr>\n",
              "      <th>Incident</th>\n",
              "      <td>4.358245</td>\n",
              "    </tr>\n",
              "  </tbody>\n",
              "</table>\n",
              "</div><br><label><b>dtype:</b> float64</label>"
            ]
          },
          "metadata": {},
          "execution_count": 375
        }
      ]
    },
    {
      "cell_type": "markdown",
      "source": [
        "After removing rows where 'Event.Id' was empty, the resultant data now only has 2 categories in the 'Investigation.Type' column i.e. 'Accident' and 'Incident'"
      ],
      "metadata": {
        "id": "v-GvtV7RZhb6"
      }
    },
    {
      "cell_type": "markdown",
      "source": [
        "####Remove Rows with Empty Make Values"
      ],
      "metadata": {
        "id": "4QIYGKrya50o"
      }
    },
    {
      "cell_type": "code",
      "source": [
        "#Remove rows where Make is blank since such data is not useful to this exercise\n",
        "aviation_df.dropna(subset = ['Make'], inplace = True)"
      ],
      "metadata": {
        "id": "7r4r5EZh6Yp9"
      },
      "execution_count": 376,
      "outputs": []
    },
    {
      "cell_type": "code",
      "source": [
        "#Get a new snapshot view of the data after removing empty 'Make' columns\n",
        "aviation_df.info()"
      ],
      "metadata": {
        "colab": {
          "base_uri": "https://localhost:8080/"
        },
        "id": "pYliLL4U6yhq",
        "outputId": "2de8a2c0-da08-43c2-b84a-a08c68b048ef"
      },
      "execution_count": 377,
      "outputs": [
        {
          "output_type": "stream",
          "name": "stdout",
          "text": [
            "<class 'pandas.core.frame.DataFrame'>\n",
            "Index: 88826 entries, 0 to 90347\n",
            "Data columns (total 31 columns):\n",
            " #   Column                  Non-Null Count  Dtype  \n",
            "---  ------                  --------------  -----  \n",
            " 0   Event.Id                88826 non-null  object \n",
            " 1   Investigation.Type      88826 non-null  object \n",
            " 2   Accident.Number         88826 non-null  object \n",
            " 3   Event.Date              88826 non-null  object \n",
            " 4   Location                88774 non-null  object \n",
            " 5   Country                 88601 non-null  object \n",
            " 6   Latitude                34360 non-null  object \n",
            " 7   Longitude               34351 non-null  object \n",
            " 8   Airport.Code            50118 non-null  object \n",
            " 9   Airport.Name            52689 non-null  object \n",
            " 10  Injury.Severity         87843 non-null  object \n",
            " 11  Aircraft.damage         85650 non-null  object \n",
            " 12  Aircraft.Category       32275 non-null  object \n",
            " 13  Registration.Number     87483 non-null  object \n",
            " 14  Make                    88826 non-null  object \n",
            " 15  Model                   88777 non-null  object \n",
            " 16  Amateur.Built           88726 non-null  object \n",
            " 17  Number.of.Engines       82791 non-null  float64\n",
            " 18  Engine.Type             81781 non-null  object \n",
            " 19  FAR.Description         31972 non-null  object \n",
            " 20  Schedule                12543 non-null  object \n",
            " 21  Purpose.of.flight       82676 non-null  object \n",
            " 22  Air.carrier             16624 non-null  object \n",
            " 23  Total.Fatal.Injuries    77432 non-null  float64\n",
            " 24  Total.Serious.Injuries  76326 non-null  float64\n",
            " 25  Total.Minor.Injuries    76904 non-null  float64\n",
            " 26  Total.Uninjured         82925 non-null  float64\n",
            " 27  Weather.Condition       84372 non-null  object \n",
            " 28  Broad.phase.of.flight   61713 non-null  object \n",
            " 29  Report.Status           82474 non-null  object \n",
            " 30  Publication.Date        73599 non-null  object \n",
            "dtypes: float64(5), object(26)\n",
            "memory usage: 21.7+ MB\n"
          ]
        }
      ]
    },
    {
      "cell_type": "markdown",
      "source": [
        "####Clean Injury.Severity Categories"
      ],
      "metadata": {
        "id": "0U_gokMHbrwe"
      }
    },
    {
      "cell_type": "code",
      "source": [
        "#Clean the 'Injury.Severity' column by removing the number of fatalies from the string\n",
        "#This will make the data cleaner i.e. reduce the number of severity categories\n",
        "#The code searches for any entries where the substring 'Fatal(' appears and replaces the whole entry with just 'Fatal'\n",
        "#This way, 2 seperate categories e.g. Fatal(20) and Fatal(104) will all be made into the same category of 'Fatal'\n",
        "aviation_df.loc[aviation_df['Injury.Severity'].str.contains(\"Fatal\\\\(\", na=False), 'Injury.Severity'] = 'Fatal'"
      ],
      "metadata": {
        "id": "7iSxJjfImnyQ"
      },
      "execution_count": 378,
      "outputs": []
    },
    {
      "cell_type": "code",
      "source": [
        "#Confirm that the cleaning exercise has yielded clean data (removed number of fatalities from the string)\n",
        "aviation_df['Injury.Severity'].value_counts(normalize = True) * 100"
      ],
      "metadata": {
        "colab": {
          "base_uri": "https://localhost:8080/",
          "height": 0
        },
        "id": "lW9qDEhtAqwZ",
        "outputId": "14717d47-edb6-40b4-bf18-cc0291494dfd"
      },
      "execution_count": 379,
      "outputs": [
        {
          "output_type": "execute_result",
          "data": {
            "text/plain": [
              "Injury.Severity\n",
              "Non-Fatal      76.650388\n",
              "Fatal          20.273670\n",
              "Incident        2.522683\n",
              "Minor           0.248170\n",
              "Serious         0.196942\n",
              "Unavailable     0.108147\n",
              "Name: proportion, dtype: float64"
            ],
            "text/html": [
              "<div>\n",
              "<style scoped>\n",
              "    .dataframe tbody tr th:only-of-type {\n",
              "        vertical-align: middle;\n",
              "    }\n",
              "\n",
              "    .dataframe tbody tr th {\n",
              "        vertical-align: top;\n",
              "    }\n",
              "\n",
              "    .dataframe thead th {\n",
              "        text-align: right;\n",
              "    }\n",
              "</style>\n",
              "<table border=\"1\" class=\"dataframe\">\n",
              "  <thead>\n",
              "    <tr style=\"text-align: right;\">\n",
              "      <th></th>\n",
              "      <th>proportion</th>\n",
              "    </tr>\n",
              "    <tr>\n",
              "      <th>Injury.Severity</th>\n",
              "      <th></th>\n",
              "    </tr>\n",
              "  </thead>\n",
              "  <tbody>\n",
              "    <tr>\n",
              "      <th>Non-Fatal</th>\n",
              "      <td>76.650388</td>\n",
              "    </tr>\n",
              "    <tr>\n",
              "      <th>Fatal</th>\n",
              "      <td>20.273670</td>\n",
              "    </tr>\n",
              "    <tr>\n",
              "      <th>Incident</th>\n",
              "      <td>2.522683</td>\n",
              "    </tr>\n",
              "    <tr>\n",
              "      <th>Minor</th>\n",
              "      <td>0.248170</td>\n",
              "    </tr>\n",
              "    <tr>\n",
              "      <th>Serious</th>\n",
              "      <td>0.196942</td>\n",
              "    </tr>\n",
              "    <tr>\n",
              "      <th>Unavailable</th>\n",
              "      <td>0.108147</td>\n",
              "    </tr>\n",
              "  </tbody>\n",
              "</table>\n",
              "</div><br><label><b>dtype:</b> float64</label>"
            ]
          },
          "metadata": {},
          "execution_count": 379
        }
      ]
    },
    {
      "cell_type": "markdown",
      "source": [
        "Injury Severity has now been cleaned to 6 clear categories. The degree of fatality will be evaluated using Total.Fatal.Injuries data"
      ],
      "metadata": {
        "id": "zrSKYNS2cq72"
      }
    },
    {
      "cell_type": "markdown",
      "source": [
        "###Clean Make Data by Standardizing Capitalization"
      ],
      "metadata": {
        "id": "riF-vJFMc9pe"
      }
    },
    {
      "cell_type": "code",
      "source": [
        "#Standardize the text capitalization to combine e.g. 'CESSNA' and 'Cessna'\n",
        "#Use \"title\" capitalization format to rewrite the 'Make' column\n",
        "aviation_df['Make'] = aviation_df['Make'].str.title()\n",
        "aviation_df['Make'].value_counts(normalize = True) * 100 #Confirm if implementation has worked"
      ],
      "metadata": {
        "colab": {
          "base_uri": "https://localhost:8080/",
          "height": 0
        },
        "id": "akJSTZivdXGA",
        "outputId": "bfbc1e99-2d5e-4493-df17-fe5d4dc53fec"
      },
      "execution_count": 380,
      "outputs": [
        {
          "output_type": "execute_result",
          "data": {
            "text/plain": [
              "Make\n",
              "Cessna           30.564249\n",
              "Piper            16.740594\n",
              "Beech             6.047779\n",
              "Boeing            3.090311\n",
              "Bell              3.064418\n",
              "                   ...    \n",
              "Cohen             0.001126\n",
              "Kitchens          0.001126\n",
              "Lutes             0.001126\n",
              "Izatt             0.001126\n",
              "Royse Ralph L     0.001126\n",
              "Name: proportion, Length: 7587, dtype: float64"
            ],
            "text/html": [
              "<div>\n",
              "<style scoped>\n",
              "    .dataframe tbody tr th:only-of-type {\n",
              "        vertical-align: middle;\n",
              "    }\n",
              "\n",
              "    .dataframe tbody tr th {\n",
              "        vertical-align: top;\n",
              "    }\n",
              "\n",
              "    .dataframe thead th {\n",
              "        text-align: right;\n",
              "    }\n",
              "</style>\n",
              "<table border=\"1\" class=\"dataframe\">\n",
              "  <thead>\n",
              "    <tr style=\"text-align: right;\">\n",
              "      <th></th>\n",
              "      <th>proportion</th>\n",
              "    </tr>\n",
              "    <tr>\n",
              "      <th>Make</th>\n",
              "      <th></th>\n",
              "    </tr>\n",
              "  </thead>\n",
              "  <tbody>\n",
              "    <tr>\n",
              "      <th>Cessna</th>\n",
              "      <td>30.564249</td>\n",
              "    </tr>\n",
              "    <tr>\n",
              "      <th>Piper</th>\n",
              "      <td>16.740594</td>\n",
              "    </tr>\n",
              "    <tr>\n",
              "      <th>Beech</th>\n",
              "      <td>6.047779</td>\n",
              "    </tr>\n",
              "    <tr>\n",
              "      <th>Boeing</th>\n",
              "      <td>3.090311</td>\n",
              "    </tr>\n",
              "    <tr>\n",
              "      <th>Bell</th>\n",
              "      <td>3.064418</td>\n",
              "    </tr>\n",
              "    <tr>\n",
              "      <th>...</th>\n",
              "      <td>...</td>\n",
              "    </tr>\n",
              "    <tr>\n",
              "      <th>Cohen</th>\n",
              "      <td>0.001126</td>\n",
              "    </tr>\n",
              "    <tr>\n",
              "      <th>Kitchens</th>\n",
              "      <td>0.001126</td>\n",
              "    </tr>\n",
              "    <tr>\n",
              "      <th>Lutes</th>\n",
              "      <td>0.001126</td>\n",
              "    </tr>\n",
              "    <tr>\n",
              "      <th>Izatt</th>\n",
              "      <td>0.001126</td>\n",
              "    </tr>\n",
              "    <tr>\n",
              "      <th>Royse Ralph L</th>\n",
              "      <td>0.001126</td>\n",
              "    </tr>\n",
              "  </tbody>\n",
              "</table>\n",
              "<p>7587 rows × 1 columns</p>\n",
              "</div><br><label><b>dtype:</b> float64</label>"
            ]
          },
          "metadata": {},
          "execution_count": 380
        }
      ]
    },
    {
      "cell_type": "markdown",
      "source": [
        "This has reduced the number of manufacturers from 8237 to 7587 i.e. we have cleaner \"Make\" data."
      ],
      "metadata": {
        "id": "1kQcxaVgd5QQ"
      }
    },
    {
      "cell_type": "markdown",
      "source": [
        "###Clean Model Data by Standardizing Capitalization"
      ],
      "metadata": {
        "id": "M6igdVmffyEN"
      }
    },
    {
      "cell_type": "code",
      "source": [
        "#Standardize the text capitalization\n",
        "#Use \"title\" capitalization format to rewrite the 'Model' column\n",
        "aviation_df['Model'] = aviation_df['Model'].str.title()\n",
        "aviation_df['Model'].value_counts(normalize = True) * 100 #Confirm if implementation has worked"
      ],
      "metadata": {
        "colab": {
          "base_uri": "https://localhost:8080/",
          "height": 0
        },
        "id": "RGc_h1gZf7a4",
        "outputId": "87a9bbcf-bc3d-4b5f-b1ce-766436b169d8"
      },
      "execution_count": 381,
      "outputs": [
        {
          "output_type": "execute_result",
          "data": {
            "text/plain": [
              "Model\n",
              "152                    2.666231\n",
              "172                    1.977990\n",
              "172N                   1.311150\n",
              "Pa-28-140              1.049821\n",
              "150                    0.933800\n",
              "                         ...   \n",
              "Challenger 2           0.001126\n",
              "Bushby Mustang M-Ii    0.001126\n",
              "Harvard Mk Ii          0.001126\n",
              "Uc45J                  0.001126\n",
              "M-8 Eagle              0.001126\n",
              "Name: proportion, Length: 11640, dtype: float64"
            ],
            "text/html": [
              "<div>\n",
              "<style scoped>\n",
              "    .dataframe tbody tr th:only-of-type {\n",
              "        vertical-align: middle;\n",
              "    }\n",
              "\n",
              "    .dataframe tbody tr th {\n",
              "        vertical-align: top;\n",
              "    }\n",
              "\n",
              "    .dataframe thead th {\n",
              "        text-align: right;\n",
              "    }\n",
              "</style>\n",
              "<table border=\"1\" class=\"dataframe\">\n",
              "  <thead>\n",
              "    <tr style=\"text-align: right;\">\n",
              "      <th></th>\n",
              "      <th>proportion</th>\n",
              "    </tr>\n",
              "    <tr>\n",
              "      <th>Model</th>\n",
              "      <th></th>\n",
              "    </tr>\n",
              "  </thead>\n",
              "  <tbody>\n",
              "    <tr>\n",
              "      <th>152</th>\n",
              "      <td>2.666231</td>\n",
              "    </tr>\n",
              "    <tr>\n",
              "      <th>172</th>\n",
              "      <td>1.977990</td>\n",
              "    </tr>\n",
              "    <tr>\n",
              "      <th>172N</th>\n",
              "      <td>1.311150</td>\n",
              "    </tr>\n",
              "    <tr>\n",
              "      <th>Pa-28-140</th>\n",
              "      <td>1.049821</td>\n",
              "    </tr>\n",
              "    <tr>\n",
              "      <th>150</th>\n",
              "      <td>0.933800</td>\n",
              "    </tr>\n",
              "    <tr>\n",
              "      <th>...</th>\n",
              "      <td>...</td>\n",
              "    </tr>\n",
              "    <tr>\n",
              "      <th>Challenger 2</th>\n",
              "      <td>0.001126</td>\n",
              "    </tr>\n",
              "    <tr>\n",
              "      <th>Bushby Mustang M-Ii</th>\n",
              "      <td>0.001126</td>\n",
              "    </tr>\n",
              "    <tr>\n",
              "      <th>Harvard Mk Ii</th>\n",
              "      <td>0.001126</td>\n",
              "    </tr>\n",
              "    <tr>\n",
              "      <th>Uc45J</th>\n",
              "      <td>0.001126</td>\n",
              "    </tr>\n",
              "    <tr>\n",
              "      <th>M-8 Eagle</th>\n",
              "      <td>0.001126</td>\n",
              "    </tr>\n",
              "  </tbody>\n",
              "</table>\n",
              "<p>11640 rows × 1 columns</p>\n",
              "</div><br><label><b>dtype:</b> float64</label>"
            ]
          },
          "metadata": {},
          "execution_count": 381
        }
      ]
    },
    {
      "cell_type": "markdown",
      "source": [
        "Capitalization noise has been successfully removed"
      ],
      "metadata": {
        "id": "CfYUqh1LggYw"
      }
    },
    {
      "cell_type": "markdown",
      "source": [
        "###Clean Aircraft.Category by combining 'UNK' and 'Unknown'\n",
        "'UNK' appears to mean 'Unknown' in this data set. We need to combine them where both appear"
      ],
      "metadata": {
        "id": "d8inuRP6eJkU"
      }
    },
    {
      "cell_type": "code",
      "source": [
        "aviation_df['Aircraft.Category'] = aviation_df['Aircraft.Category'].replace('UNK', 'Unknown') #Replace 'UNK' entries with 'Unknown'\n",
        "aviation_df['Aircraft.Category'].value_counts(normalize = True) * 100"
      ],
      "metadata": {
        "id": "stH0JDsQTPvT",
        "colab": {
          "base_uri": "https://localhost:8080/",
          "height": 0
        },
        "outputId": "9c3ab6c4-283b-48f9-fa43-f3cb5b7ab968"
      },
      "execution_count": 382,
      "outputs": [
        {
          "output_type": "execute_result",
          "data": {
            "text/plain": [
              "Aircraft.Category\n",
              "Airplane             85.539892\n",
              "Helicopter           10.649109\n",
              "Glider                1.573974\n",
              "Balloon               0.715724\n",
              "Gyrocraft             0.536019\n",
              "Weight-Shift          0.498838\n",
              "Powered Parachute     0.281952\n",
              "Ultralight            0.092951\n",
              "Unknown               0.049574\n",
              "WSFT                  0.027885\n",
              "Powered-Lift          0.015492\n",
              "Blimp                 0.012393\n",
              "Rocket                0.003098\n",
              "ULTR                  0.003098\n",
              "Name: proportion, dtype: float64"
            ],
            "text/html": [
              "<div>\n",
              "<style scoped>\n",
              "    .dataframe tbody tr th:only-of-type {\n",
              "        vertical-align: middle;\n",
              "    }\n",
              "\n",
              "    .dataframe tbody tr th {\n",
              "        vertical-align: top;\n",
              "    }\n",
              "\n",
              "    .dataframe thead th {\n",
              "        text-align: right;\n",
              "    }\n",
              "</style>\n",
              "<table border=\"1\" class=\"dataframe\">\n",
              "  <thead>\n",
              "    <tr style=\"text-align: right;\">\n",
              "      <th></th>\n",
              "      <th>proportion</th>\n",
              "    </tr>\n",
              "    <tr>\n",
              "      <th>Aircraft.Category</th>\n",
              "      <th></th>\n",
              "    </tr>\n",
              "  </thead>\n",
              "  <tbody>\n",
              "    <tr>\n",
              "      <th>Airplane</th>\n",
              "      <td>85.539892</td>\n",
              "    </tr>\n",
              "    <tr>\n",
              "      <th>Helicopter</th>\n",
              "      <td>10.649109</td>\n",
              "    </tr>\n",
              "    <tr>\n",
              "      <th>Glider</th>\n",
              "      <td>1.573974</td>\n",
              "    </tr>\n",
              "    <tr>\n",
              "      <th>Balloon</th>\n",
              "      <td>0.715724</td>\n",
              "    </tr>\n",
              "    <tr>\n",
              "      <th>Gyrocraft</th>\n",
              "      <td>0.536019</td>\n",
              "    </tr>\n",
              "    <tr>\n",
              "      <th>Weight-Shift</th>\n",
              "      <td>0.498838</td>\n",
              "    </tr>\n",
              "    <tr>\n",
              "      <th>Powered Parachute</th>\n",
              "      <td>0.281952</td>\n",
              "    </tr>\n",
              "    <tr>\n",
              "      <th>Ultralight</th>\n",
              "      <td>0.092951</td>\n",
              "    </tr>\n",
              "    <tr>\n",
              "      <th>Unknown</th>\n",
              "      <td>0.049574</td>\n",
              "    </tr>\n",
              "    <tr>\n",
              "      <th>WSFT</th>\n",
              "      <td>0.027885</td>\n",
              "    </tr>\n",
              "    <tr>\n",
              "      <th>Powered-Lift</th>\n",
              "      <td>0.015492</td>\n",
              "    </tr>\n",
              "    <tr>\n",
              "      <th>Blimp</th>\n",
              "      <td>0.012393</td>\n",
              "    </tr>\n",
              "    <tr>\n",
              "      <th>Rocket</th>\n",
              "      <td>0.003098</td>\n",
              "    </tr>\n",
              "    <tr>\n",
              "      <th>ULTR</th>\n",
              "      <td>0.003098</td>\n",
              "    </tr>\n",
              "  </tbody>\n",
              "</table>\n",
              "</div><br><label><b>dtype:</b> float64</label>"
            ]
          },
          "metadata": {},
          "execution_count": 382
        }
      ]
    },
    {
      "cell_type": "markdown",
      "source": [
        "'UNK' and 'Unknown' successully merged"
      ],
      "metadata": {
        "id": "wog9rbwXgoef"
      }
    },
    {
      "cell_type": "markdown",
      "source": [
        "###Clean Engine.Type by combining 'UNK' with 'Unknown'\n",
        "'UNK' appears to mean 'Unknown' in this data set. We need to combine them where both appear"
      ],
      "metadata": {
        "id": "Dl3AQsydhFAz"
      }
    },
    {
      "cell_type": "code",
      "source": [
        "aviation_df['Engine.Type'] = aviation_df['Engine.Type'].replace('UNK', 'Unknown') #Replace 'UNK' entries with 'Unknown'\n",
        "aviation_df['Engine.Type'].value_counts(normalize = True) * 100"
      ],
      "metadata": {
        "colab": {
          "base_uri": "https://localhost:8080/",
          "height": 0
        },
        "id": "KJL1BAlWhXJ7",
        "outputId": "9aa3af6c-fc7a-451f-c839-e05737db0118"
      },
      "execution_count": 383,
      "outputs": [
        {
          "output_type": "execute_result",
          "data": {
            "text/plain": [
              "Engine.Type\n",
              "Reciprocating      85.006297\n",
              "Turbo Shaft         4.413005\n",
              "Turbo Prop          4.146440\n",
              "Turbo Fan           3.033712\n",
              "Unknown             2.507917\n",
              "Turbo Jet           0.859613\n",
              "Geared Turbofan     0.014673\n",
              "Electric            0.012228\n",
              "LR                  0.002446\n",
              "NONE                0.002446\n",
              "Hybrid Rocket       0.001223\n",
              "Name: proportion, dtype: float64"
            ],
            "text/html": [
              "<div>\n",
              "<style scoped>\n",
              "    .dataframe tbody tr th:only-of-type {\n",
              "        vertical-align: middle;\n",
              "    }\n",
              "\n",
              "    .dataframe tbody tr th {\n",
              "        vertical-align: top;\n",
              "    }\n",
              "\n",
              "    .dataframe thead th {\n",
              "        text-align: right;\n",
              "    }\n",
              "</style>\n",
              "<table border=\"1\" class=\"dataframe\">\n",
              "  <thead>\n",
              "    <tr style=\"text-align: right;\">\n",
              "      <th></th>\n",
              "      <th>proportion</th>\n",
              "    </tr>\n",
              "    <tr>\n",
              "      <th>Engine.Type</th>\n",
              "      <th></th>\n",
              "    </tr>\n",
              "  </thead>\n",
              "  <tbody>\n",
              "    <tr>\n",
              "      <th>Reciprocating</th>\n",
              "      <td>85.006297</td>\n",
              "    </tr>\n",
              "    <tr>\n",
              "      <th>Turbo Shaft</th>\n",
              "      <td>4.413005</td>\n",
              "    </tr>\n",
              "    <tr>\n",
              "      <th>Turbo Prop</th>\n",
              "      <td>4.146440</td>\n",
              "    </tr>\n",
              "    <tr>\n",
              "      <th>Turbo Fan</th>\n",
              "      <td>3.033712</td>\n",
              "    </tr>\n",
              "    <tr>\n",
              "      <th>Unknown</th>\n",
              "      <td>2.507917</td>\n",
              "    </tr>\n",
              "    <tr>\n",
              "      <th>Turbo Jet</th>\n",
              "      <td>0.859613</td>\n",
              "    </tr>\n",
              "    <tr>\n",
              "      <th>Geared Turbofan</th>\n",
              "      <td>0.014673</td>\n",
              "    </tr>\n",
              "    <tr>\n",
              "      <th>Electric</th>\n",
              "      <td>0.012228</td>\n",
              "    </tr>\n",
              "    <tr>\n",
              "      <th>LR</th>\n",
              "      <td>0.002446</td>\n",
              "    </tr>\n",
              "    <tr>\n",
              "      <th>NONE</th>\n",
              "      <td>0.002446</td>\n",
              "    </tr>\n",
              "    <tr>\n",
              "      <th>Hybrid Rocket</th>\n",
              "      <td>0.001223</td>\n",
              "    </tr>\n",
              "  </tbody>\n",
              "</table>\n",
              "</div><br><label><b>dtype:</b> float64</label>"
            ]
          },
          "metadata": {},
          "execution_count": 383
        }
      ]
    },
    {
      "cell_type": "markdown",
      "source": [
        "###Clean Weather.Condition by Standardizing Capitalization"
      ],
      "metadata": {
        "id": "_LmCg0S7h0IE"
      }
    },
    {
      "cell_type": "code",
      "source": [
        "#Standardize the text capitalization\n",
        "#Use \"upper\" capitalization format to rewrite the 'Model' column\n",
        "aviation_df['Weather.Condition'] = aviation_df['Weather.Condition'].str.upper()\n",
        "aviation_df['Weather.Condition'] = aviation_df['Weather.Condition'].replace('UNK', 'Unknown') #Replace 'UNK' entries with 'Unknown'\n",
        "aviation_df['Weather.Condition'].value_counts(normalize = True) * 100 #Confirm if implementation has worked"
      ],
      "metadata": {
        "colab": {
          "base_uri": "https://localhost:8080/",
          "height": 0
        },
        "id": "gbizu8Hqh73M",
        "outputId": "fa0da28d-aab2-46b1-c7eb-6e3fff9307a6"
      },
      "execution_count": 384,
      "outputs": [
        {
          "output_type": "execute_result",
          "data": {
            "text/plain": [
              "Weather.Condition\n",
              "VMC        91.596738\n",
              "IMC         7.079363\n",
              "Unknown     1.323899\n",
              "Name: proportion, dtype: float64"
            ],
            "text/html": [
              "<div>\n",
              "<style scoped>\n",
              "    .dataframe tbody tr th:only-of-type {\n",
              "        vertical-align: middle;\n",
              "    }\n",
              "\n",
              "    .dataframe tbody tr th {\n",
              "        vertical-align: top;\n",
              "    }\n",
              "\n",
              "    .dataframe thead th {\n",
              "        text-align: right;\n",
              "    }\n",
              "</style>\n",
              "<table border=\"1\" class=\"dataframe\">\n",
              "  <thead>\n",
              "    <tr style=\"text-align: right;\">\n",
              "      <th></th>\n",
              "      <th>proportion</th>\n",
              "    </tr>\n",
              "    <tr>\n",
              "      <th>Weather.Condition</th>\n",
              "      <th></th>\n",
              "    </tr>\n",
              "  </thead>\n",
              "  <tbody>\n",
              "    <tr>\n",
              "      <th>VMC</th>\n",
              "      <td>91.596738</td>\n",
              "    </tr>\n",
              "    <tr>\n",
              "      <th>IMC</th>\n",
              "      <td>7.079363</td>\n",
              "    </tr>\n",
              "    <tr>\n",
              "      <th>Unknown</th>\n",
              "      <td>1.323899</td>\n",
              "    </tr>\n",
              "  </tbody>\n",
              "</table>\n",
              "</div><br><label><b>dtype:</b> float64</label>"
            ]
          },
          "metadata": {},
          "execution_count": 384
        }
      ]
    },
    {
      "cell_type": "markdown",
      "source": [
        "###Clean Schedule by Replacing UNK with Unknown"
      ],
      "metadata": {
        "id": "XbSWoTc71vRE"
      }
    },
    {
      "cell_type": "code",
      "source": [
        "aviation_df['Schedule'] = aviation_df['Schedule'].replace('UNK', 'Unknown') #Replace 'UNK' entries with 'Unknown'\n",
        "aviation_df['Schedule'].value_counts(normalize = True) * 100 #Confirm if implementation has worked"
      ],
      "metadata": {
        "colab": {
          "base_uri": "https://localhost:8080/",
          "height": 0
        },
        "id": "sp6FXw-n143J",
        "outputId": "a43bd4fe-9629-4908-edcc-c7ee5529188a"
      },
      "execution_count": 385,
      "outputs": [
        {
          "output_type": "execute_result",
          "data": {
            "text/plain": [
              "Schedule\n",
              "NSCH       35.581599\n",
              "Unknown    32.679582\n",
              "SCHD       31.738818\n",
              "Name: proportion, dtype: float64"
            ],
            "text/html": [
              "<div>\n",
              "<style scoped>\n",
              "    .dataframe tbody tr th:only-of-type {\n",
              "        vertical-align: middle;\n",
              "    }\n",
              "\n",
              "    .dataframe tbody tr th {\n",
              "        vertical-align: top;\n",
              "    }\n",
              "\n",
              "    .dataframe thead th {\n",
              "        text-align: right;\n",
              "    }\n",
              "</style>\n",
              "<table border=\"1\" class=\"dataframe\">\n",
              "  <thead>\n",
              "    <tr style=\"text-align: right;\">\n",
              "      <th></th>\n",
              "      <th>proportion</th>\n",
              "    </tr>\n",
              "    <tr>\n",
              "      <th>Schedule</th>\n",
              "      <th></th>\n",
              "    </tr>\n",
              "  </thead>\n",
              "  <tbody>\n",
              "    <tr>\n",
              "      <th>NSCH</th>\n",
              "      <td>35.581599</td>\n",
              "    </tr>\n",
              "    <tr>\n",
              "      <th>Unknown</th>\n",
              "      <td>32.679582</td>\n",
              "    </tr>\n",
              "    <tr>\n",
              "      <th>SCHD</th>\n",
              "      <td>31.738818</td>\n",
              "    </tr>\n",
              "  </tbody>\n",
              "</table>\n",
              "</div><br><label><b>dtype:</b> float64</label>"
            ]
          },
          "metadata": {},
          "execution_count": 385
        }
      ]
    },
    {
      "cell_type": "markdown",
      "source": [
        "###Check for Duplicates"
      ],
      "metadata": {
        "id": "e1qvJsHqpUI3"
      }
    },
    {
      "cell_type": "code",
      "source": [
        "aviation_df.duplicated().sum()"
      ],
      "metadata": {
        "colab": {
          "base_uri": "https://localhost:8080/"
        },
        "id": "ndburQYHpaSq",
        "outputId": "10b9438b-d4ab-4dcb-fc32-0d4efd919435"
      },
      "execution_count": 386,
      "outputs": [
        {
          "output_type": "execute_result",
          "data": {
            "text/plain": [
              "0"
            ]
          },
          "metadata": {},
          "execution_count": 386
        }
      ]
    },
    {
      "cell_type": "markdown",
      "source": [
        "There are no duplicated rowa in the dataset."
      ],
      "metadata": {
        "id": "IzSZxTG1pZgM"
      }
    },
    {
      "cell_type": "markdown",
      "source": [
        "###Convert Date Columns to standard datetime format"
      ],
      "metadata": {
        "id": "0mxrN2UwqCRq"
      }
    },
    {
      "cell_type": "code",
      "source": [
        "\n",
        "#Transform the date columns to standard datetime format\n",
        "aviation_df['Event.Date'] = pd.to_datetime(aviation_df['Event.Date'], format = '%Y-%m-%d')\n",
        "aviation_df['Publication.Date'] = pd.to_datetime(aviation_df['Publication.Date'], format = '%d-%m-%Y')\n",
        "\n",
        "aviation_df['Event.Date'] = aviation_df['Event.Date'].dt.strftime('%d-%m-%Y')\n",
        "aviation_df['Publication.Date'] = aviation_df['Publication.Date'].dt.strftime('%d-%m-%Y')\n",
        "\n",
        "aviation_df.tail()"
      ],
      "metadata": {
        "colab": {
          "base_uri": "https://localhost:8080/",
          "height": 0
        },
        "id": "Dg6sbP4OqJXP",
        "outputId": "75d3ccb7-6cf3-45d1-e9c1-6b8f601545bd"
      },
      "execution_count": 387,
      "outputs": [
        {
          "output_type": "execute_result",
          "data": {
            "text/plain": [
              "             Event.Id Investigation.Type Accident.Number  Event.Date  \\\n",
              "90343  20221227106491           Accident      ERA23LA093  26-12-2022   \n",
              "90344  20221227106494           Accident      ERA23LA095  26-12-2022   \n",
              "90345  20221227106497           Accident      WPR23LA075  26-12-2022   \n",
              "90346  20221227106498           Accident      WPR23LA076  26-12-2022   \n",
              "90347  20221230106513           Accident      ERA23LA097  29-12-2022   \n",
              "\n",
              "            Location        Country Latitude Longitude Airport.Code  \\\n",
              "90343  Annapolis, MD  United States      NaN       NaN          NaN   \n",
              "90344    Hampton, NH  United States      NaN       NaN          NaN   \n",
              "90345     Payson, AZ  United States  341525N  1112021W          PAN   \n",
              "90346     Morgan, UT  United States      NaN       NaN          NaN   \n",
              "90347     Athens, GA  United States      NaN       NaN          NaN   \n",
              "\n",
              "      Airport.Name  ... Purpose.of.flight         Air.carrier  \\\n",
              "90343          NaN  ...          Personal                 NaN   \n",
              "90344          NaN  ...               NaN                 NaN   \n",
              "90345       PAYSON  ...          Personal                 NaN   \n",
              "90346          NaN  ...          Personal  MC CESSNA 210N LLC   \n",
              "90347          NaN  ...          Personal                 NaN   \n",
              "\n",
              "      Total.Fatal.Injuries Total.Serious.Injuries Total.Minor.Injuries  \\\n",
              "90343                  0.0                    1.0                  0.0   \n",
              "90344                  0.0                    0.0                  0.0   \n",
              "90345                  0.0                    0.0                  0.0   \n",
              "90346                  0.0                    0.0                  0.0   \n",
              "90347                  0.0                    1.0                  0.0   \n",
              "\n",
              "      Total.Uninjured Weather.Condition  Broad.phase.of.flight Report.Status  \\\n",
              "90343             0.0               NaN                    NaN           NaN   \n",
              "90344             0.0               NaN                    NaN           NaN   \n",
              "90345             1.0               VMC                    NaN           NaN   \n",
              "90346             0.0               NaN                    NaN           NaN   \n",
              "90347             1.0               NaN                    NaN           NaN   \n",
              "\n",
              "      Publication.Date  \n",
              "90343       29-12-2022  \n",
              "90344              NaN  \n",
              "90345       27-12-2022  \n",
              "90346              NaN  \n",
              "90347       30-12-2022  \n",
              "\n",
              "[5 rows x 31 columns]"
            ],
            "text/html": [
              "\n",
              "  <div id=\"df-ee93cb13-3b8c-4b63-a5c6-363211718af4\" class=\"colab-df-container\">\n",
              "    <div>\n",
              "<style scoped>\n",
              "    .dataframe tbody tr th:only-of-type {\n",
              "        vertical-align: middle;\n",
              "    }\n",
              "\n",
              "    .dataframe tbody tr th {\n",
              "        vertical-align: top;\n",
              "    }\n",
              "\n",
              "    .dataframe thead th {\n",
              "        text-align: right;\n",
              "    }\n",
              "</style>\n",
              "<table border=\"1\" class=\"dataframe\">\n",
              "  <thead>\n",
              "    <tr style=\"text-align: right;\">\n",
              "      <th></th>\n",
              "      <th>Event.Id</th>\n",
              "      <th>Investigation.Type</th>\n",
              "      <th>Accident.Number</th>\n",
              "      <th>Event.Date</th>\n",
              "      <th>Location</th>\n",
              "      <th>Country</th>\n",
              "      <th>Latitude</th>\n",
              "      <th>Longitude</th>\n",
              "      <th>Airport.Code</th>\n",
              "      <th>Airport.Name</th>\n",
              "      <th>...</th>\n",
              "      <th>Purpose.of.flight</th>\n",
              "      <th>Air.carrier</th>\n",
              "      <th>Total.Fatal.Injuries</th>\n",
              "      <th>Total.Serious.Injuries</th>\n",
              "      <th>Total.Minor.Injuries</th>\n",
              "      <th>Total.Uninjured</th>\n",
              "      <th>Weather.Condition</th>\n",
              "      <th>Broad.phase.of.flight</th>\n",
              "      <th>Report.Status</th>\n",
              "      <th>Publication.Date</th>\n",
              "    </tr>\n",
              "  </thead>\n",
              "  <tbody>\n",
              "    <tr>\n",
              "      <th>90343</th>\n",
              "      <td>20221227106491</td>\n",
              "      <td>Accident</td>\n",
              "      <td>ERA23LA093</td>\n",
              "      <td>26-12-2022</td>\n",
              "      <td>Annapolis, MD</td>\n",
              "      <td>United States</td>\n",
              "      <td>NaN</td>\n",
              "      <td>NaN</td>\n",
              "      <td>NaN</td>\n",
              "      <td>NaN</td>\n",
              "      <td>...</td>\n",
              "      <td>Personal</td>\n",
              "      <td>NaN</td>\n",
              "      <td>0.0</td>\n",
              "      <td>1.0</td>\n",
              "      <td>0.0</td>\n",
              "      <td>0.0</td>\n",
              "      <td>NaN</td>\n",
              "      <td>NaN</td>\n",
              "      <td>NaN</td>\n",
              "      <td>29-12-2022</td>\n",
              "    </tr>\n",
              "    <tr>\n",
              "      <th>90344</th>\n",
              "      <td>20221227106494</td>\n",
              "      <td>Accident</td>\n",
              "      <td>ERA23LA095</td>\n",
              "      <td>26-12-2022</td>\n",
              "      <td>Hampton, NH</td>\n",
              "      <td>United States</td>\n",
              "      <td>NaN</td>\n",
              "      <td>NaN</td>\n",
              "      <td>NaN</td>\n",
              "      <td>NaN</td>\n",
              "      <td>...</td>\n",
              "      <td>NaN</td>\n",
              "      <td>NaN</td>\n",
              "      <td>0.0</td>\n",
              "      <td>0.0</td>\n",
              "      <td>0.0</td>\n",
              "      <td>0.0</td>\n",
              "      <td>NaN</td>\n",
              "      <td>NaN</td>\n",
              "      <td>NaN</td>\n",
              "      <td>NaN</td>\n",
              "    </tr>\n",
              "    <tr>\n",
              "      <th>90345</th>\n",
              "      <td>20221227106497</td>\n",
              "      <td>Accident</td>\n",
              "      <td>WPR23LA075</td>\n",
              "      <td>26-12-2022</td>\n",
              "      <td>Payson, AZ</td>\n",
              "      <td>United States</td>\n",
              "      <td>341525N</td>\n",
              "      <td>1112021W</td>\n",
              "      <td>PAN</td>\n",
              "      <td>PAYSON</td>\n",
              "      <td>...</td>\n",
              "      <td>Personal</td>\n",
              "      <td>NaN</td>\n",
              "      <td>0.0</td>\n",
              "      <td>0.0</td>\n",
              "      <td>0.0</td>\n",
              "      <td>1.0</td>\n",
              "      <td>VMC</td>\n",
              "      <td>NaN</td>\n",
              "      <td>NaN</td>\n",
              "      <td>27-12-2022</td>\n",
              "    </tr>\n",
              "    <tr>\n",
              "      <th>90346</th>\n",
              "      <td>20221227106498</td>\n",
              "      <td>Accident</td>\n",
              "      <td>WPR23LA076</td>\n",
              "      <td>26-12-2022</td>\n",
              "      <td>Morgan, UT</td>\n",
              "      <td>United States</td>\n",
              "      <td>NaN</td>\n",
              "      <td>NaN</td>\n",
              "      <td>NaN</td>\n",
              "      <td>NaN</td>\n",
              "      <td>...</td>\n",
              "      <td>Personal</td>\n",
              "      <td>MC CESSNA 210N LLC</td>\n",
              "      <td>0.0</td>\n",
              "      <td>0.0</td>\n",
              "      <td>0.0</td>\n",
              "      <td>0.0</td>\n",
              "      <td>NaN</td>\n",
              "      <td>NaN</td>\n",
              "      <td>NaN</td>\n",
              "      <td>NaN</td>\n",
              "    </tr>\n",
              "    <tr>\n",
              "      <th>90347</th>\n",
              "      <td>20221230106513</td>\n",
              "      <td>Accident</td>\n",
              "      <td>ERA23LA097</td>\n",
              "      <td>29-12-2022</td>\n",
              "      <td>Athens, GA</td>\n",
              "      <td>United States</td>\n",
              "      <td>NaN</td>\n",
              "      <td>NaN</td>\n",
              "      <td>NaN</td>\n",
              "      <td>NaN</td>\n",
              "      <td>...</td>\n",
              "      <td>Personal</td>\n",
              "      <td>NaN</td>\n",
              "      <td>0.0</td>\n",
              "      <td>1.0</td>\n",
              "      <td>0.0</td>\n",
              "      <td>1.0</td>\n",
              "      <td>NaN</td>\n",
              "      <td>NaN</td>\n",
              "      <td>NaN</td>\n",
              "      <td>30-12-2022</td>\n",
              "    </tr>\n",
              "  </tbody>\n",
              "</table>\n",
              "<p>5 rows × 31 columns</p>\n",
              "</div>\n",
              "    <div class=\"colab-df-buttons\">\n",
              "\n",
              "  <div class=\"colab-df-container\">\n",
              "    <button class=\"colab-df-convert\" onclick=\"convertToInteractive('df-ee93cb13-3b8c-4b63-a5c6-363211718af4')\"\n",
              "            title=\"Convert this dataframe to an interactive table.\"\n",
              "            style=\"display:none;\">\n",
              "\n",
              "  <svg xmlns=\"http://www.w3.org/2000/svg\" height=\"24px\" viewBox=\"0 -960 960 960\">\n",
              "    <path d=\"M120-120v-720h720v720H120Zm60-500h600v-160H180v160Zm220 220h160v-160H400v160Zm0 220h160v-160H400v160ZM180-400h160v-160H180v160Zm440 0h160v-160H620v160ZM180-180h160v-160H180v160Zm440 0h160v-160H620v160Z\"/>\n",
              "  </svg>\n",
              "    </button>\n",
              "\n",
              "  <style>\n",
              "    .colab-df-container {\n",
              "      display:flex;\n",
              "      gap: 12px;\n",
              "    }\n",
              "\n",
              "    .colab-df-convert {\n",
              "      background-color: #E8F0FE;\n",
              "      border: none;\n",
              "      border-radius: 50%;\n",
              "      cursor: pointer;\n",
              "      display: none;\n",
              "      fill: #1967D2;\n",
              "      height: 32px;\n",
              "      padding: 0 0 0 0;\n",
              "      width: 32px;\n",
              "    }\n",
              "\n",
              "    .colab-df-convert:hover {\n",
              "      background-color: #E2EBFA;\n",
              "      box-shadow: 0px 1px 2px rgba(60, 64, 67, 0.3), 0px 1px 3px 1px rgba(60, 64, 67, 0.15);\n",
              "      fill: #174EA6;\n",
              "    }\n",
              "\n",
              "    .colab-df-buttons div {\n",
              "      margin-bottom: 4px;\n",
              "    }\n",
              "\n",
              "    [theme=dark] .colab-df-convert {\n",
              "      background-color: #3B4455;\n",
              "      fill: #D2E3FC;\n",
              "    }\n",
              "\n",
              "    [theme=dark] .colab-df-convert:hover {\n",
              "      background-color: #434B5C;\n",
              "      box-shadow: 0px 1px 3px 1px rgba(0, 0, 0, 0.15);\n",
              "      filter: drop-shadow(0px 1px 2px rgba(0, 0, 0, 0.3));\n",
              "      fill: #FFFFFF;\n",
              "    }\n",
              "  </style>\n",
              "\n",
              "    <script>\n",
              "      const buttonEl =\n",
              "        document.querySelector('#df-ee93cb13-3b8c-4b63-a5c6-363211718af4 button.colab-df-convert');\n",
              "      buttonEl.style.display =\n",
              "        google.colab.kernel.accessAllowed ? 'block' : 'none';\n",
              "\n",
              "      async function convertToInteractive(key) {\n",
              "        const element = document.querySelector('#df-ee93cb13-3b8c-4b63-a5c6-363211718af4');\n",
              "        const dataTable =\n",
              "          await google.colab.kernel.invokeFunction('convertToInteractive',\n",
              "                                                    [key], {});\n",
              "        if (!dataTable) return;\n",
              "\n",
              "        const docLinkHtml = 'Like what you see? Visit the ' +\n",
              "          '<a target=\"_blank\" href=https://colab.research.google.com/notebooks/data_table.ipynb>data table notebook</a>'\n",
              "          + ' to learn more about interactive tables.';\n",
              "        element.innerHTML = '';\n",
              "        dataTable['output_type'] = 'display_data';\n",
              "        await google.colab.output.renderOutput(dataTable, element);\n",
              "        const docLink = document.createElement('div');\n",
              "        docLink.innerHTML = docLinkHtml;\n",
              "        element.appendChild(docLink);\n",
              "      }\n",
              "    </script>\n",
              "  </div>\n",
              "\n",
              "\n",
              "<div id=\"df-b5e4f5de-f446-4791-8716-b10e5bd0bf30\">\n",
              "  <button class=\"colab-df-quickchart\" onclick=\"quickchart('df-b5e4f5de-f446-4791-8716-b10e5bd0bf30')\"\n",
              "            title=\"Suggest charts\"\n",
              "            style=\"display:none;\">\n",
              "\n",
              "<svg xmlns=\"http://www.w3.org/2000/svg\" height=\"24px\"viewBox=\"0 0 24 24\"\n",
              "     width=\"24px\">\n",
              "    <g>\n",
              "        <path d=\"M19 3H5c-1.1 0-2 .9-2 2v14c0 1.1.9 2 2 2h14c1.1 0 2-.9 2-2V5c0-1.1-.9-2-2-2zM9 17H7v-7h2v7zm4 0h-2V7h2v10zm4 0h-2v-4h2v4z\"/>\n",
              "    </g>\n",
              "</svg>\n",
              "  </button>\n",
              "\n",
              "<style>\n",
              "  .colab-df-quickchart {\n",
              "      --bg-color: #E8F0FE;\n",
              "      --fill-color: #1967D2;\n",
              "      --hover-bg-color: #E2EBFA;\n",
              "      --hover-fill-color: #174EA6;\n",
              "      --disabled-fill-color: #AAA;\n",
              "      --disabled-bg-color: #DDD;\n",
              "  }\n",
              "\n",
              "  [theme=dark] .colab-df-quickchart {\n",
              "      --bg-color: #3B4455;\n",
              "      --fill-color: #D2E3FC;\n",
              "      --hover-bg-color: #434B5C;\n",
              "      --hover-fill-color: #FFFFFF;\n",
              "      --disabled-bg-color: #3B4455;\n",
              "      --disabled-fill-color: #666;\n",
              "  }\n",
              "\n",
              "  .colab-df-quickchart {\n",
              "    background-color: var(--bg-color);\n",
              "    border: none;\n",
              "    border-radius: 50%;\n",
              "    cursor: pointer;\n",
              "    display: none;\n",
              "    fill: var(--fill-color);\n",
              "    height: 32px;\n",
              "    padding: 0;\n",
              "    width: 32px;\n",
              "  }\n",
              "\n",
              "  .colab-df-quickchart:hover {\n",
              "    background-color: var(--hover-bg-color);\n",
              "    box-shadow: 0 1px 2px rgba(60, 64, 67, 0.3), 0 1px 3px 1px rgba(60, 64, 67, 0.15);\n",
              "    fill: var(--button-hover-fill-color);\n",
              "  }\n",
              "\n",
              "  .colab-df-quickchart-complete:disabled,\n",
              "  .colab-df-quickchart-complete:disabled:hover {\n",
              "    background-color: var(--disabled-bg-color);\n",
              "    fill: var(--disabled-fill-color);\n",
              "    box-shadow: none;\n",
              "  }\n",
              "\n",
              "  .colab-df-spinner {\n",
              "    border: 2px solid var(--fill-color);\n",
              "    border-color: transparent;\n",
              "    border-bottom-color: var(--fill-color);\n",
              "    animation:\n",
              "      spin 1s steps(1) infinite;\n",
              "  }\n",
              "\n",
              "  @keyframes spin {\n",
              "    0% {\n",
              "      border-color: transparent;\n",
              "      border-bottom-color: var(--fill-color);\n",
              "      border-left-color: var(--fill-color);\n",
              "    }\n",
              "    20% {\n",
              "      border-color: transparent;\n",
              "      border-left-color: var(--fill-color);\n",
              "      border-top-color: var(--fill-color);\n",
              "    }\n",
              "    30% {\n",
              "      border-color: transparent;\n",
              "      border-left-color: var(--fill-color);\n",
              "      border-top-color: var(--fill-color);\n",
              "      border-right-color: var(--fill-color);\n",
              "    }\n",
              "    40% {\n",
              "      border-color: transparent;\n",
              "      border-right-color: var(--fill-color);\n",
              "      border-top-color: var(--fill-color);\n",
              "    }\n",
              "    60% {\n",
              "      border-color: transparent;\n",
              "      border-right-color: var(--fill-color);\n",
              "    }\n",
              "    80% {\n",
              "      border-color: transparent;\n",
              "      border-right-color: var(--fill-color);\n",
              "      border-bottom-color: var(--fill-color);\n",
              "    }\n",
              "    90% {\n",
              "      border-color: transparent;\n",
              "      border-bottom-color: var(--fill-color);\n",
              "    }\n",
              "  }\n",
              "</style>\n",
              "\n",
              "  <script>\n",
              "    async function quickchart(key) {\n",
              "      const quickchartButtonEl =\n",
              "        document.querySelector('#' + key + ' button');\n",
              "      quickchartButtonEl.disabled = true;  // To prevent multiple clicks.\n",
              "      quickchartButtonEl.classList.add('colab-df-spinner');\n",
              "      try {\n",
              "        const charts = await google.colab.kernel.invokeFunction(\n",
              "            'suggestCharts', [key], {});\n",
              "      } catch (error) {\n",
              "        console.error('Error during call to suggestCharts:', error);\n",
              "      }\n",
              "      quickchartButtonEl.classList.remove('colab-df-spinner');\n",
              "      quickchartButtonEl.classList.add('colab-df-quickchart-complete');\n",
              "    }\n",
              "    (() => {\n",
              "      let quickchartButtonEl =\n",
              "        document.querySelector('#df-b5e4f5de-f446-4791-8716-b10e5bd0bf30 button');\n",
              "      quickchartButtonEl.style.display =\n",
              "        google.colab.kernel.accessAllowed ? 'block' : 'none';\n",
              "    })();\n",
              "  </script>\n",
              "</div>\n",
              "\n",
              "    </div>\n",
              "  </div>\n"
            ],
            "application/vnd.google.colaboratory.intrinsic+json": {
              "type": "dataframe"
            }
          },
          "metadata": {},
          "execution_count": 387
        }
      ]
    },
    {
      "cell_type": "markdown",
      "source": [
        "The dates are now written in a standard format"
      ],
      "metadata": {
        "id": "fU6HG37SrMPk"
      }
    },
    {
      "cell_type": "code",
      "source": [
        "aviation_df.info()"
      ],
      "metadata": {
        "colab": {
          "base_uri": "https://localhost:8080/"
        },
        "id": "a7Dt97KTuvd4",
        "outputId": "8b3a68c9-4081-43bb-ffee-872141635ed3"
      },
      "execution_count": 388,
      "outputs": [
        {
          "output_type": "stream",
          "name": "stdout",
          "text": [
            "<class 'pandas.core.frame.DataFrame'>\n",
            "Index: 88826 entries, 0 to 90347\n",
            "Data columns (total 31 columns):\n",
            " #   Column                  Non-Null Count  Dtype  \n",
            "---  ------                  --------------  -----  \n",
            " 0   Event.Id                88826 non-null  object \n",
            " 1   Investigation.Type      88826 non-null  object \n",
            " 2   Accident.Number         88826 non-null  object \n",
            " 3   Event.Date              88826 non-null  object \n",
            " 4   Location                88774 non-null  object \n",
            " 5   Country                 88601 non-null  object \n",
            " 6   Latitude                34360 non-null  object \n",
            " 7   Longitude               34351 non-null  object \n",
            " 8   Airport.Code            50118 non-null  object \n",
            " 9   Airport.Name            52689 non-null  object \n",
            " 10  Injury.Severity         87843 non-null  object \n",
            " 11  Aircraft.damage         85650 non-null  object \n",
            " 12  Aircraft.Category       32275 non-null  object \n",
            " 13  Registration.Number     87483 non-null  object \n",
            " 14  Make                    88826 non-null  object \n",
            " 15  Model                   88777 non-null  object \n",
            " 16  Amateur.Built           88726 non-null  object \n",
            " 17  Number.of.Engines       82791 non-null  float64\n",
            " 18  Engine.Type             81781 non-null  object \n",
            " 19  FAR.Description         31972 non-null  object \n",
            " 20  Schedule                12543 non-null  object \n",
            " 21  Purpose.of.flight       82676 non-null  object \n",
            " 22  Air.carrier             16624 non-null  object \n",
            " 23  Total.Fatal.Injuries    77432 non-null  float64\n",
            " 24  Total.Serious.Injuries  76326 non-null  float64\n",
            " 25  Total.Minor.Injuries    76904 non-null  float64\n",
            " 26  Total.Uninjured         82925 non-null  float64\n",
            " 27  Weather.Condition       84372 non-null  object \n",
            " 28  Broad.phase.of.flight   61713 non-null  object \n",
            " 29  Report.Status           82474 non-null  object \n",
            " 30  Publication.Date        73599 non-null  object \n",
            "dtypes: float64(5), object(26)\n",
            "memory usage: 21.7+ MB\n"
          ]
        }
      ]
    },
    {
      "cell_type": "markdown",
      "source": [
        "###Handling Missing Values\n",
        "We will use different strategies to handle different categories of missing data\n",
        "\n",
        "\n",
        "\n",
        "*   Most of the longitude and latitude data is missing, and it does not seem to be relevant to this study. Additionally, we also have location data which is more readily available. Thus, we can drop the longitude and latitude columns\n",
        "*   FAR.Description data seems irrelelevant to the study\n",
        "*   For the few missing values of relevant categorical columns, we can fill missing values with \"Unknown\". We may be able to extract insight even with \"Unknown\" parameters if others related parameters are known e.g. you may have an unknown model but know the manufacturer. This remains relevant to our study.\n",
        "*   For the data on total number of injuries, it is best to assume that the data meant to be there is '0' e.g. if Total.Serious.Injuries is empty, we assume it was 0.\n",
        "\n",
        "\n",
        "\n",
        "\n",
        ""
      ],
      "metadata": {
        "id": "xC2QhVxduuSo"
      }
    },
    {
      "cell_type": "code",
      "source": [
        "#These columns seem irrelevant at this time for the study. We will drop them for now\n",
        "aviation_df.drop(['Longitude', 'Latitude','FAR.Description'], axis = 1, inplace = True)"
      ],
      "metadata": {
        "id": "Pd80ir9yz3pd"
      },
      "execution_count": 389,
      "outputs": []
    },
    {
      "cell_type": "code",
      "source": [
        "#replace missing categorical data with \"Unknown\"\n",
        "aviation_df['Location'] = aviation_df['Location'].fillna('Unknown')\n",
        "aviation_df['Country'] = aviation_df['Country'].fillna('Unknown')\n",
        "aviation_df['Injury.Severity'] = aviation_df['Injury.Severity'].fillna('Unknown')\n",
        "aviation_df['Airport.Code'] = aviation_df['Airport.Code'].fillna('Unknown')\n",
        "aviation_df['Airport.Name'] = aviation_df['Airport.Name'].fillna('Unknown')\n",
        "aviation_df['Injury.Severity'] = aviation_df['Injury.Severity'].fillna('Unknown')\n",
        "aviation_df['Aircraft.damage'] = aviation_df['Aircraft.damage'].fillna('Unknown')\n",
        "aviation_df['Aircraft.Category'] = aviation_df['Aircraft.Category'].fillna('Unknown')\n",
        "aviation_df['Registration.Number'] = aviation_df['Registration.Number'].fillna('Unknown')\n",
        "aviation_df['Model'] = aviation_df['Model'].fillna('Unknown')\n",
        "aviation_df['Amateur.Built'] = aviation_df['Amateur.Built'].fillna('Unknown')\n",
        "aviation_df['Number.of.Engines'] = aviation_df['Number.of.Engines'].fillna('Unknown')\n",
        "aviation_df['Air.carrier'] = aviation_df['Air.carrier'].fillna('Unknown')\n",
        "aviation_df['Purpose.of.flight'] = aviation_df['Purpose.of.flight'].fillna('Unknown')\n",
        "aviation_df['Schedule'] = aviation_df['Schedule'].fillna('Unknown')\n",
        "aviation_df['Weather.Condition'] = aviation_df['Weather.Condition'].fillna('Unknown')\n",
        "aviation_df['Broad.phase.of.flight'] = aviation_df['Broad.phase.of.flight'].fillna('Unknown')\n",
        "aviation_df['Report.Status'] = aviation_df['Report.Status'].fillna('Unknown')\n",
        "aviation_df['Engine.Type'] = aviation_df['Engine.Type'].fillna('Unknown')\n",
        "#aviation_df[''] = aviation_df[''].fillna('Unknown')\n",
        "aviation_df.info()"
      ],
      "metadata": {
        "colab": {
          "base_uri": "https://localhost:8080/"
        },
        "id": "SL1rxfYuwwyD",
        "outputId": "9807cda4-7125-4452-a00e-959d7947e432"
      },
      "execution_count": 390,
      "outputs": [
        {
          "output_type": "stream",
          "name": "stdout",
          "text": [
            "<class 'pandas.core.frame.DataFrame'>\n",
            "Index: 88826 entries, 0 to 90347\n",
            "Data columns (total 28 columns):\n",
            " #   Column                  Non-Null Count  Dtype  \n",
            "---  ------                  --------------  -----  \n",
            " 0   Event.Id                88826 non-null  object \n",
            " 1   Investigation.Type      88826 non-null  object \n",
            " 2   Accident.Number         88826 non-null  object \n",
            " 3   Event.Date              88826 non-null  object \n",
            " 4   Location                88826 non-null  object \n",
            " 5   Country                 88826 non-null  object \n",
            " 6   Airport.Code            88826 non-null  object \n",
            " 7   Airport.Name            88826 non-null  object \n",
            " 8   Injury.Severity         88826 non-null  object \n",
            " 9   Aircraft.damage         88826 non-null  object \n",
            " 10  Aircraft.Category       88826 non-null  object \n",
            " 11  Registration.Number     88826 non-null  object \n",
            " 12  Make                    88826 non-null  object \n",
            " 13  Model                   88826 non-null  object \n",
            " 14  Amateur.Built           88826 non-null  object \n",
            " 15  Number.of.Engines       88826 non-null  object \n",
            " 16  Engine.Type             88826 non-null  object \n",
            " 17  Schedule                88826 non-null  object \n",
            " 18  Purpose.of.flight       88826 non-null  object \n",
            " 19  Air.carrier             88826 non-null  object \n",
            " 20  Total.Fatal.Injuries    77432 non-null  float64\n",
            " 21  Total.Serious.Injuries  76326 non-null  float64\n",
            " 22  Total.Minor.Injuries    76904 non-null  float64\n",
            " 23  Total.Uninjured         82925 non-null  float64\n",
            " 24  Weather.Condition       88826 non-null  object \n",
            " 25  Broad.phase.of.flight   88826 non-null  object \n",
            " 26  Report.Status           88826 non-null  object \n",
            " 27  Publication.Date        73599 non-null  object \n",
            "dtypes: float64(4), object(24)\n",
            "memory usage: 19.7+ MB\n"
          ]
        }
      ]
    },
    {
      "cell_type": "code",
      "source": [
        "#Replace missing quantitative data with 0\n",
        "aviation_df['Total.Fatal.Injuries'] = aviation_df['Total.Fatal.Injuries'].fillna(0)\n",
        "aviation_df['Total.Serious.Injuries'] = aviation_df['Total.Serious.Injuries'].fillna(0)\n",
        "aviation_df['Total.Minor.Injuries'] = aviation_df['Total.Minor.Injuries'].fillna(0)\n",
        "aviation_df['Total.Uninjured'] = aviation_df['Total.Uninjured'].fillna(0)\n",
        "\n",
        "aviation_df.info()"
      ],
      "metadata": {
        "colab": {
          "base_uri": "https://localhost:8080/"
        },
        "id": "I3TXrhc25G9z",
        "outputId": "c1432d40-0d4c-4607-ceae-95596d924f6e"
      },
      "execution_count": 419,
      "outputs": [
        {
          "output_type": "stream",
          "name": "stdout",
          "text": [
            "<class 'pandas.core.frame.DataFrame'>\n",
            "Index: 88826 entries, 0 to 90347\n",
            "Data columns (total 28 columns):\n",
            " #   Column                  Non-Null Count  Dtype  \n",
            "---  ------                  --------------  -----  \n",
            " 0   Event.Id                88826 non-null  object \n",
            " 1   Investigation.Type      88826 non-null  object \n",
            " 2   Accident.Number         88826 non-null  object \n",
            " 3   Event.Date              88826 non-null  object \n",
            " 4   Location                88826 non-null  object \n",
            " 5   Country                 88826 non-null  object \n",
            " 6   Airport.Code            88826 non-null  object \n",
            " 7   Airport.Name            88826 non-null  object \n",
            " 8   Injury.Severity         88826 non-null  object \n",
            " 9   Aircraft.damage         88826 non-null  object \n",
            " 10  Aircraft.Category       88826 non-null  object \n",
            " 11  Registration.Number     88826 non-null  object \n",
            " 12  Make                    88826 non-null  object \n",
            " 13  Model                   88826 non-null  object \n",
            " 14  Amateur.Built           88826 non-null  object \n",
            " 15  Number.of.Engines       88826 non-null  object \n",
            " 16  Engine.Type             88826 non-null  object \n",
            " 17  Schedule                88826 non-null  object \n",
            " 18  Purpose.of.flight       88826 non-null  object \n",
            " 19  Air.carrier             88826 non-null  object \n",
            " 20  Total.Fatal.Injuries    88826 non-null  float64\n",
            " 21  Total.Serious.Injuries  88826 non-null  float64\n",
            " 22  Total.Minor.Injuries    88826 non-null  float64\n",
            " 23  Total.Uninjured         88826 non-null  float64\n",
            " 24  Weather.Condition       88826 non-null  object \n",
            " 25  Broad.phase.of.flight   88826 non-null  object \n",
            " 26  Report.Status           88826 non-null  object \n",
            " 27  Publication.Date        73599 non-null  object \n",
            "dtypes: float64(4), object(24)\n",
            "memory usage: 19.7+ MB\n"
          ]
        }
      ]
    },
    {
      "cell_type": "markdown",
      "source": [
        "##Encoding Categorical Data to Facilitate Correlation Calculations\n",
        "\n",
        "To enable us calculate correlations between various categorical attributes, it becomes important to codify the categorical data. We would need to create a new dataframe for storing the encoded data"
      ],
      "metadata": {
        "id": "69GxnL5_-D2g"
      }
    },
    {
      "cell_type": "code",
      "source": [
        "encoded_aviation_df = aviation_df.copy()\n",
        "#encoded_aviation_df.drop(['Accident.Number', 'Publication.Date','Registration.Number','Event.Date'], axis = 1, inplace = True)\n",
        "encoded_aviation_df.info()"
      ],
      "metadata": {
        "colab": {
          "base_uri": "https://localhost:8080/"
        },
        "id": "draxFJaz-glr",
        "outputId": "0d0fd8be-296b-4de1-b0b9-312c2a2e9eaf"
      },
      "execution_count": 420,
      "outputs": [
        {
          "output_type": "stream",
          "name": "stdout",
          "text": [
            "<class 'pandas.core.frame.DataFrame'>\n",
            "Index: 88826 entries, 0 to 90347\n",
            "Data columns (total 28 columns):\n",
            " #   Column                  Non-Null Count  Dtype  \n",
            "---  ------                  --------------  -----  \n",
            " 0   Event.Id                88826 non-null  object \n",
            " 1   Investigation.Type      88826 non-null  object \n",
            " 2   Accident.Number         88826 non-null  object \n",
            " 3   Event.Date              88826 non-null  object \n",
            " 4   Location                88826 non-null  object \n",
            " 5   Country                 88826 non-null  object \n",
            " 6   Airport.Code            88826 non-null  object \n",
            " 7   Airport.Name            88826 non-null  object \n",
            " 8   Injury.Severity         88826 non-null  object \n",
            " 9   Aircraft.damage         88826 non-null  object \n",
            " 10  Aircraft.Category       88826 non-null  object \n",
            " 11  Registration.Number     88826 non-null  object \n",
            " 12  Make                    88826 non-null  object \n",
            " 13  Model                   88826 non-null  object \n",
            " 14  Amateur.Built           88826 non-null  object \n",
            " 15  Number.of.Engines       88826 non-null  object \n",
            " 16  Engine.Type             88826 non-null  object \n",
            " 17  Schedule                88826 non-null  object \n",
            " 18  Purpose.of.flight       88826 non-null  object \n",
            " 19  Air.carrier             88826 non-null  object \n",
            " 20  Total.Fatal.Injuries    88826 non-null  float64\n",
            " 21  Total.Serious.Injuries  88826 non-null  float64\n",
            " 22  Total.Minor.Injuries    88826 non-null  float64\n",
            " 23  Total.Uninjured         88826 non-null  float64\n",
            " 24  Weather.Condition       88826 non-null  object \n",
            " 25  Broad.phase.of.flight   88826 non-null  object \n",
            " 26  Report.Status           88826 non-null  object \n",
            " 27  Publication.Date        73599 non-null  object \n",
            "dtypes: float64(4), object(24)\n",
            "memory usage: 19.7+ MB\n"
          ]
        }
      ]
    },
    {
      "cell_type": "code",
      "source": [
        "encoded_aviation_df['Investigation.Type.encoded'] = pd.Categorical(encoded_aviation_df['Investigation.Type']).codes\n",
        "encoded_aviation_df['Location.encoded'] = pd.Categorical(encoded_aviation_df['Location']).codes\n",
        "encoded_aviation_df['Country.encoded'] = pd.Categorical(encoded_aviation_df['Country']).codes\n",
        "encoded_aviation_df['Airport.Code.encoded'] = pd.Categorical(encoded_aviation_df['Airport.Code']).codes\n",
        "encoded_aviation_df['Airport.Name.encoded'] = pd.Categorical(encoded_aviation_df['Airport.Name']).codes\n",
        "encoded_aviation_df['Injury.Severity.encoded'] = pd.Categorical(encoded_aviation_df['Injury.Severity']).codes\n",
        "encoded_aviation_df['Aircraft.damage.encoded'] = pd.Categorical(encoded_aviation_df['Aircraft.damage']).codes\n",
        "encoded_aviation_df['Aircraft.Category.encoded'] = pd.Categorical(encoded_aviation_df['Aircraft.Category']).codes\n",
        "encoded_aviation_df['Make.encoded'] = pd.Categorical(encoded_aviation_df['Make']).codes\n",
        "encoded_aviation_df['Model.encoded'] = pd.Categorical(encoded_aviation_df['Model']).codes\n",
        "encoded_aviation_df['Amateur.Built.encoded'] = pd.Categorical(encoded_aviation_df['Amateur.Built']).codes\n",
        "#encoded_aviation_df['Number.of.Engines.encoded'] = pd.Categorical(encoded_aviation_df['Number.of.Engines']).codes\n",
        "encoded_aviation_df['Engine.Type.encoded'] = pd.Categorical(encoded_aviation_df['Engine.Type']).codes\n",
        "encoded_aviation_df['Schedule.encoded'] = pd.Categorical(encoded_aviation_df['Schedule']).codes\n",
        "encoded_aviation_df['Purpose.of.flight.encoded'] = pd.Categorical(encoded_aviation_df['Purpose.of.flight']).codes\n",
        "encoded_aviation_df['Weather.Condition.encoded'] = pd.Categorical(encoded_aviation_df['Weather.Condition']).codes\n",
        "encoded_aviation_df['Broad.phase.of.flight.encoded'] = pd.Categorical(encoded_aviation_df['Broad.phase.of.flight']).codes\n",
        "#encoded_aviation_df['.encoded'] = pd.Categorical(encoded_aviation_df['']).codes\n",
        "\n",
        "encoded_aviation_df.info()\n"
      ],
      "metadata": {
        "colab": {
          "base_uri": "https://localhost:8080/"
        },
        "id": "Bh0X2-o8_t6A",
        "outputId": "4666fd6f-2143-44bd-e931-29205db884e9"
      },
      "execution_count": 421,
      "outputs": [
        {
          "output_type": "stream",
          "name": "stdout",
          "text": [
            "<class 'pandas.core.frame.DataFrame'>\n",
            "Index: 88826 entries, 0 to 90347\n",
            "Data columns (total 44 columns):\n",
            " #   Column                         Non-Null Count  Dtype  \n",
            "---  ------                         --------------  -----  \n",
            " 0   Event.Id                       88826 non-null  object \n",
            " 1   Investigation.Type             88826 non-null  object \n",
            " 2   Accident.Number                88826 non-null  object \n",
            " 3   Event.Date                     88826 non-null  object \n",
            " 4   Location                       88826 non-null  object \n",
            " 5   Country                        88826 non-null  object \n",
            " 6   Airport.Code                   88826 non-null  object \n",
            " 7   Airport.Name                   88826 non-null  object \n",
            " 8   Injury.Severity                88826 non-null  object \n",
            " 9   Aircraft.damage                88826 non-null  object \n",
            " 10  Aircraft.Category              88826 non-null  object \n",
            " 11  Registration.Number            88826 non-null  object \n",
            " 12  Make                           88826 non-null  object \n",
            " 13  Model                          88826 non-null  object \n",
            " 14  Amateur.Built                  88826 non-null  object \n",
            " 15  Number.of.Engines              88826 non-null  object \n",
            " 16  Engine.Type                    88826 non-null  object \n",
            " 17  Schedule                       88826 non-null  object \n",
            " 18  Purpose.of.flight              88826 non-null  object \n",
            " 19  Air.carrier                    88826 non-null  object \n",
            " 20  Total.Fatal.Injuries           88826 non-null  float64\n",
            " 21  Total.Serious.Injuries         88826 non-null  float64\n",
            " 22  Total.Minor.Injuries           88826 non-null  float64\n",
            " 23  Total.Uninjured                88826 non-null  float64\n",
            " 24  Weather.Condition              88826 non-null  object \n",
            " 25  Broad.phase.of.flight          88826 non-null  object \n",
            " 26  Report.Status                  88826 non-null  object \n",
            " 27  Publication.Date               73599 non-null  object \n",
            " 28  Investigation.Type.encoded     88826 non-null  int8   \n",
            " 29  Location.encoded               88826 non-null  int16  \n",
            " 30  Country.encoded                88826 non-null  int16  \n",
            " 31  Airport.Code.encoded           88826 non-null  int16  \n",
            " 32  Airport.Name.encoded           88826 non-null  int16  \n",
            " 33  Injury.Severity.encoded        88826 non-null  int8   \n",
            " 34  Aircraft.damage.encoded        88826 non-null  int8   \n",
            " 35  Aircraft.Category.encoded      88826 non-null  int8   \n",
            " 36  Make.encoded                   88826 non-null  int16  \n",
            " 37  Model.encoded                  88826 non-null  int16  \n",
            " 38  Amateur.Built.encoded          88826 non-null  int8   \n",
            " 39  Engine.Type.encoded            88826 non-null  int8   \n",
            " 40  Schedule.encoded               88826 non-null  int8   \n",
            " 41  Purpose.of.flight.encoded      88826 non-null  int8   \n",
            " 42  Weather.Condition.encoded      88826 non-null  int8   \n",
            " 43  Broad.phase.of.flight.encoded  88826 non-null  int8   \n",
            "dtypes: float64(4), int16(6), int8(10), object(24)\n",
            "memory usage: 21.5+ MB\n"
          ]
        }
      ]
    },
    {
      "cell_type": "code",
      "source": [
        "#Output data to CSV for EDA with Tableau\n",
        "encoded_aviation_df.to_csv('encoded_aviation_data.csv', index = False)"
      ],
      "metadata": {
        "id": "a3gBVHJVI3JU"
      },
      "execution_count": 422,
      "outputs": []
    },
    {
      "cell_type": "markdown",
      "source": [
        "#**Exploratory Data Analysis with Tableau**\n",
        "\n",
        "The next step is to apply EDA using TAbleau to generate insights from the data"
      ],
      "metadata": {
        "id": "wKUInXKt-fu4"
      }
    }
  ]
}